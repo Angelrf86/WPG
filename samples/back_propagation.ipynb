{
 "metadata": {
  "name": ""
 },
 "nbformat": 3,
 "nbformat_minor": 0,
 "worksheets": [
  {
   "cells": [
    {
     "cell_type": "code",
     "collapsed": false,
     "input": [
      "import sys\n",
      "sys.path.insert(0,'..')\n",
      "\n",
      "import os\n",
      "import math\n",
      "import glob\n",
      "\n",
      "import numpy as np\n",
      "import scipy.optimize\n",
      "\n",
      "from wpg.srwlib import SRWLOptD, SRWLOptC\n",
      "\n",
      "import wpg.srwlib\n",
      "\n",
      "from wpg import Wavefront\n",
      "from wpg import Beamline # new class for fixing bugs of srw classes\n",
      "\n",
      "from wpg import optical_elements # wrapers for optical elements\n",
      "\n",
      "import multiprocessing # for parallel propagation on different distances\n",
      "\n",
      "import cPickle as pickle\n",
      "\n",
      "import pylab as plt\n",
      "plt.ion()\n",
      "#http://dcache-door-photon03.desy.de:2980/LONG_PULSE/SASE12_5keV_14GeV_long_pulse_2013/SASE1_5keV_14GeV__1001015_0001.h5"
     ],
     "language": "python",
     "metadata": {},
     "outputs": []
    },
    {
     "cell_type": "code",
     "collapsed": false,
     "input": [
      "def gaussian(height, center_x, center_y, width_x, width_y):\n",
      "    \"\"\"Returns a gaussian function with the given parameters\"\"\"\n",
      "    width_x = float(width_x)\n",
      "    width_y = float(width_y)\n",
      "    return lambda x,y: height*np.exp(\n",
      "                -(((center_x-x)/width_x)**2+((center_y-y)/width_y)**2)/2)\n",
      "\n",
      "def moments(data):\n",
      "    \"\"\"Returns (height, x, y, width_x, width_y)\n",
      "    the gaussian parameters of a 2D distribution by calculating its\n",
      "    moments \"\"\"\n",
      "    total = data.sum()\n",
      "    X, Y = np.indices(data.shape)\n",
      "    x = (X*data).sum()/total\n",
      "    y = (Y*data).sum()/total\n",
      "    col = data[:, int(y)]\n",
      "    width_x = np.sqrt(abs((np.arange(col.size)-y)**2*col).sum()/col.sum())\n",
      "    row = data[int(x), :]\n",
      "    width_y = np.sqrt(abs((np.arange(row.size)-x)**2*row).sum()/row.sum())\n",
      "    height = data.max()\n",
      "    return height, x, y, width_x, width_y\n",
      "\n",
      "def fit_gaussian(data):\n",
      "    \"\"\"Returns (height, x, y, width_x, width_y)\n",
      "    the gaussian parameters of a 2D distribution found by a fit\"\"\"\n",
      "    params = moments(data)\n",
      "    errorfunction = lambda p: np.ravel(gaussian(*p)(*np.indices(data.shape)) - data)\n",
      "    x, cov_x, infodict, mesg, ier = scipy.optimize.leastsq(errorfunction, params, full_output=True)\n",
      "    \n",
      "    res = gaussian(*x)(*np.indices(data.shape))\n",
      "    error = infodict['fvec']             \n",
      "    ss_err=((error)**2).sum()\n",
      "    ss_tot=((res-res.mean())**2).sum()\n",
      "    rsquared=1-(ss_err/ss_tot)\n",
      "    return {'params':x, 'rsquared': rsquared}"
     ],
     "language": "python",
     "metadata": {},
     "outputs": []
    },
    {
     "cell_type": "code",
     "collapsed": false,
     "input": [
      "def fit_gaussian_pulse(wf, polarization='vertical'):\n",
      "    \"\"\"\n",
      "    Calculate gaussian parameters for all slices in wavefront and add it to custom_fields['misc']['gaussain_parameters']\n",
      "    \"\"\"\n",
      "    #TODO: add other polarizations\n",
      "    wf_intensity = wf.get_intensity(None, polarization)\n",
      "    slices_number = wf.params.Mesh.nSlices\n",
      "    \n",
      "    height = np.zeros(slices_number)\n",
      "    center_x = np.zeros(slices_number)\n",
      "    center_y = np.zeros(slices_number)\n",
      "    width_x = np.zeros(slices_number)\n",
      "    width_y = np.zeros(slices_number) \n",
      "    rsquared = np.zeros(slices_number)\n",
      "    intensity = wf_intensity.sum(0).sum(0)\n",
      "    for sn in range(slices_number):\n",
      "        data = np.squeeze(wf_intensity[:,:,sn])\n",
      "        fit_result = fit_gaussian(data)\n",
      "        (height[sn], center_x[sn], center_y[sn], width_x[sn], width_y[sn]) = fit_result['params']\n",
      "        rsquared[sn] = fit_result['rsquared']\n",
      "        #TODO: normalize to real data\n",
      "    \n",
      "    if not 'misc' in wf.custom_fields:\n",
      "        wf.custom_fields['misc'] = {}\n",
      "    \n",
      "    #TODO: check wf.id\n",
      "    #TODO: custom fields to defaultdict? def tree(): return defaultdict(tree)\n",
      "    if not 'gaussian_parameters' in wf.custom_fields['misc']:\n",
      "        wf.custom_fields['misc']['gaussian_parameters'] = {}\n",
      "    \n",
      "    wf.custom_fields['misc']['gaussian_parameters']['height'] = height\n",
      "    wf.custom_fields['misc']['gaussian_parameters']['center_x'] = center_x\n",
      "    wf.custom_fields['misc']['gaussian_parameters']['center_y'] = center_y\n",
      "    wf.custom_fields['misc']['gaussian_parameters']['width_x'] = width_x\n",
      "    wf.custom_fields['misc']['gaussian_parameters']['width_y'] = width_y\n",
      "    wf.custom_fields['misc']['gaussian_parameters']['rsquared'] = rsquared\n",
      "    wf.custom_fields['misc']['gaussian_parameters']['intensity'] = intensity "
     ],
     "language": "python",
     "metadata": {},
     "outputs": []
    },
    {
     "cell_type": "code",
     "collapsed": false,
     "input": [
      "def show_slices(wfr, slice_numbers = None):\n",
      "    \"\"\"\n",
      "    Show slices: intensity, phase, gaussian approximation parameters and cuts.\n",
      "    All gaussina parameters in pixels now. Should be fixed.\n",
      "    \n",
      "    :params wfr: wpg.Wavefront\n",
      "    :params slice_numbers: slices to be shown, may by list, int, or None (for all slices)\n",
      "    \"\"\"\n",
      "    wf_intensity = wfr.get_intensity(polarization='vertical')\n",
      "    wf_phase = wfr.get_phase(polarization='vertical')\n",
      "    \n",
      "#     print wf_intensity.shape\n",
      "    \n",
      "    if slice_numbers is None:\n",
      "        slice_numbers=range(wf_intensity.shape[-1])\n",
      "    \n",
      "    if isinstance(slice_numbers, int):\n",
      "        slice_numbers = [slice_numbers,]\n",
      "    \n",
      "    intense = wf_intensity.sum(0).sum(0)\n",
      "    intense = np.squeeze(intense)\n",
      "#     print intense.shape\n",
      "    print 'Z coord: {0:.4f} m.'.format(wfr.params.Mesh.zCoord)\n",
      "    plt.figure()\n",
      "    plt.plot(slice_numbers, intense[slice_numbers])\n",
      "    plt.title('Slices intensity')\n",
      "    plt.show()\n",
      "    \n",
      "    \n",
      "    for sn in slice_numbers:\n",
      "        data = wf_intensity[:,:,sn]\n",
      "        fit_result = fit_gaussian(data)\n",
      "        fit_result = fit_gaussian(data)\n",
      "        (height, center_x, center_y, width_x, width_y) = fit_result['params']\n",
      "        rsquared = fit_result['rsquared']\n",
      "        fit = gaussian(height,center_x, center_y, width_x, width_y )\n",
      "        fit_data = fit(*np.indices(data.shape))\n",
      "        \n",
      "        print 'Slice number: {}'.format(sn)\n",
      "        print '''Gaussian approximation parameters:\n",
      "                center_x : {0:.1f}px.\\t center_y : {1:.1f}px.\n",
      "                width_x : {2:.1f}px\\twidth_y : {3:.1f}px.\n",
      "                rsquared: {4:0.4f}.'''.format(center_x, center_y, width_x, width_y,rsquared)\n",
      "\n",
      "         \n",
      "        plt.figure(figsize=(20,7))\n",
      "        plt.subplot(141)\n",
      "        plt.imshow(data)\n",
      "        plt.colorbar(orientation='horizontal')\n",
      "        \n",
      "        plt.contour(fit_data, cmap=plt.cm.copper) \n",
      "        \n",
      "        plt.subplot(142)\n",
      "        plt.imshow(wf_phase[:,:,sn])\n",
      "        \n",
      "        plt.colorbar(orientation='horizontal')\n",
      "        \n",
      "        plt.subplot(143)\n",
      "        plt.plot(data[:,int(center_x)], label='Data')\n",
      "        plt.hold(True)\n",
      "        plt.plot(fit_data[:,int(center_x)], label='Gaussian fit')\n",
      "        plt.legend()\n",
      "        \n",
      "        \n",
      "        plt.subplot(144)\n",
      "        plt.plot(data[int(center_y),:], label='Data')\n",
      "        plt.hold(True)\n",
      "        plt.plot(fit_data[int(center_y),:], label='Gaussian fit')\n",
      "        plt.legend()\n",
      "    \n",
      "        plt.show()"
     ],
     "language": "python",
     "metadata": {},
     "outputs": []
    },
    {
     "cell_type": "heading",
     "level": 2,
     "metadata": {},
     "source": [
      "Load FEL data and save 0-posiotion wavefront"
     ]
    },
    {
     "cell_type": "code",
     "collapsed": false,
     "input": [
      "wf = Wavefront()\n",
      "wf.load_hdf5('SASE1_5keV_14GeV__1001018.h5')\n",
      "#wf.load_hdf5('Tutorial_intro/g8_0kev_bl_all.h5')\n",
      "fit_gaussian_pulse(wf)\n",
      "wf.store_hdf5('0.h5')\n",
      "del wf"
     ],
     "language": "python",
     "metadata": {},
     "outputs": []
    },
    {
     "cell_type": "heading",
     "level": 2,
     "metadata": {},
     "source": [
      "Show all slices for initital wavefront"
     ]
    },
    {
     "cell_type": "code",
     "collapsed": false,
     "input": [
      "wf = Wavefront()\n",
      "wf.load_hdf5('0.h5')\n",
      "#show_gaussian_fit(wf)\n",
      "show_slices(wf, slice_numbers=range(17,22))"
     ],
     "language": "python",
     "metadata": {},
     "outputs": []
    },
    {
     "cell_type": "heading",
     "level": 2,
     "metadata": {},
     "source": [
      "Propagators for initial forward propagation for smoothing (L0=10m)"
     ]
    },
    {
     "cell_type": "code",
     "collapsed": false,
     "input": [
      "#Wavefront Propagation Parameters:\n",
      "#[0]:  Auto-Resize (1) or not (0) Before propagation\n",
      "#[1]:  Auto-Resize (1) or not (0) After propagation\n",
      "#[2]:  Relative Precision for propagation with Auto-Resizing (1. is nominal)\n",
      "#[3]:  Allow (1) or not (0) for semi-analytical treatment of quadratic phase terms at propagation\n",
      "#[4]:  Do any Resizing on Fourier side, using FFT, (1) or not (0)\n",
      "#[5]:  Horizontal Range modification factor at Resizing (1. means no modification)\n",
      "#[6]:  Horizontal Resolution modification factor at Resizing\n",
      "#[7]:  Vertical Range modification factor at Resizing\n",
      "#[8]:  Vertical Resolution modification factor at Resizing\n",
      "#[9]:  Type of wavefront Shift before Resizing (not yet implemented)\n",
      "#[10]: New Horizontal wavefront Center position after Shift (not yet implemented)\n",
      "#[11]: New Vertical wavefront Center position after Shift (not yet implemented)\n",
      "\n",
      "#           [ 0,  1,  2,  3,  4, 5,   6,   7,   8,  9,  10, 11]      \n",
      "ppDrift0  =  [ 0,  0,  1,  0,  0, 2.0, 1.0, 2.0, 1.0,  0,  0,   0]\n",
      "\n",
      "L0 = 20\n",
      "drift0 = optical_elements.Drift(L0)\n",
      "\n",
      "srwl_bl0 = SRWLOptC([drift0,], [ppDrift0,])\n",
      "bl0=Beamline(srwl_bl0)"
     ],
     "language": "python",
     "metadata": {},
     "outputs": []
    },
    {
     "cell_type": "heading",
     "level": 2,
     "metadata": {},
     "source": [
      "Propagate pulse forward and save it in HDF5 file. File name (z_coord).h5."
     ]
    },
    {
     "cell_type": "code",
     "collapsed": false,
     "input": [
      "#forward propagate to L0 meters\n",
      "wf_L0 = Wavefront()\n",
      "wf_L0.load_hdf5('0.h5') \n",
      "\n",
      "L0_name = '{:0.4f}'.format(L0)\n",
      "print 'Save file : {0}.h5'.format(L0_name)\n",
      "\n",
      "wpg.srwlib.srwl.SetRepresElecField(wf_L0._srwl_wf,'f')\n",
      "bl0.propagate(wf_L0)\n",
      "wpg.srwlib.srwl.SetRepresElecField(wf_L0._srwl_wf,'t')\n",
      "fit_gaussian_pulse(wf_L0)\n",
      "wf_L0.store_hdf5(L0_name + '.h5')\n",
      "del wf_L0"
     ],
     "language": "python",
     "metadata": {},
     "outputs": []
    },
    {
     "cell_type": "heading",
     "level": 2,
     "metadata": {},
     "source": [
      "Let's look on slices after forward propagation. Slices looks not VERY gaussian on the strart and an of pulse."
     ]
    },
    {
     "cell_type": "code",
     "collapsed": false,
     "input": [
      "wf_L0 = Wavefront()\n",
      "wf_L0.load_hdf5(L0_name + '.h5')\n",
      "show_slices(wf_L0, slice_numbers=[1,4,19,20])\n",
      "del wf_L0"
     ],
     "language": "python",
     "metadata": {},
     "outputs": []
    },
    {
     "cell_type": "heading",
     "level": 2,
     "metadata": {},
     "source": [
      "Define function for back propagation. This will needed for parallel propagations."
     ]
    },
    {
     "cell_type": "code",
     "collapsed": false,
     "input": [
      "def back_propagate(params):\n",
      "    '''\n",
      "    Propagate pulse from file params[0] at the distance params[1] and save result to HDF5 file.\n",
      "    If output files exists - skip calculations.    \n",
      "    '''\n",
      "    (L0_name, L1) = params\n",
      "    L1_name = '{0}_{1:0.4f}'.format(L0_name, L1)\n",
      "    out_file_name = L1_name + '.h5'\n",
      "    \n",
      "    if os.path.exists(out_file_name):\n",
      "        return\n",
      "\n",
      "    \n",
      "    wf_L1 = Wavefront()\n",
      "    wf_L1.load_hdf5(L0_name + '.h5')\n",
      "    \n",
      "    ppDrift1  =  [ 0,  0,  1,  0,  0, 1.0, 1.0, 1.0, 1.0,  0,  0,   0]\n",
      "    drift1 = optical_elements.Drift(L1)\n",
      "    \n",
      "    srwl_bl1 = SRWLOptC([drift1,], [ppDrift1,])\n",
      "    bl1=Beamline(srwl_bl1)      \n",
      "    \n",
      "    wpg.srwlib.srwl.SetRepresElecField(wf_L1._srwl_wf,'f')\n",
      "    bl1.propagate(wf_L1)\n",
      "    wpg.srwlib.srwl.SetRepresElecField(wf_L1._srwl_wf,'t')\n",
      "    \n",
      "    fit_gaussian_pulse(wf_L1)\n",
      "    wf_L1.store_hdf5(out_file_name)\n",
      "    return"
     ],
     "language": "python",
     "metadata": {},
     "outputs": []
    },
    {
     "cell_type": "heading",
     "level": 2,
     "metadata": {},
     "source": [
      "Paralell propagation of wavefront to different distances."
     ]
    },
    {
     "cell_type": "code",
     "collapsed": false,
     "input": [
      "#some memory leaking occuars. SHod be profiled.\n",
      "p= multiprocessing.Pool(processes=8)\n",
      "\n",
      "L1_list = np.arange(-50,0,1.0)\n",
      "arg_list = [(L0_name,l1) for l1 in L1_list]\n",
      "p.map(back_propagate, arg_list, chunksize=1)\n",
      "p.close()"
     ],
     "language": "python",
     "metadata": {},
     "outputs": []
    },
    {
     "cell_type": "heading",
     "level": 2,
     "metadata": {},
     "source": [
      "Analyse wavefront files to collect inforamtion abaout gaussina parameters"
     ]
    },
    {
     "cell_type": "code",
     "collapsed": false,
     "input": [
      "files = glob.glob('20.0000_*.h5')\n",
      "data = {}\n",
      "for idf, f in enumerate(files):\n",
      "    print '{}/{} {}'.format(idf+1, len(files), f)\n",
      "    w = Wavefront()\n",
      "    w.load_hdf5(f)\n",
      "    data[w.params.Mesh.zCoord]=w.custom_fields['misc']['gaussian_parameters']"
     ],
     "language": "python",
     "metadata": {},
     "outputs": []
    },
    {
     "cell_type": "heading",
     "level": 2,
     "metadata": {},
     "source": [
      "Save result in file for future processings"
     ]
    },
    {
     "cell_type": "code",
     "collapsed": false,
     "input": [
      "with open('data.pkl','w') as pf:\n",
      "    pickle.dump(data,pf)"
     ],
     "language": "python",
     "metadata": {},
     "outputs": []
    },
    {
     "cell_type": "heading",
     "level": 2,
     "metadata": {},
     "source": [
      "Load result from file"
     ]
    },
    {
     "cell_type": "code",
     "collapsed": false,
     "input": [
      "with open('data.pkl') as pf:\n",
      "    data = pickle.load(pf)"
     ],
     "language": "python",
     "metadata": {},
     "outputs": []
    },
    {
     "cell_type": "heading",
     "level": 2,
     "metadata": {},
     "source": [
      "Plot summary."
     ]
    },
    {
     "cell_type": "markdown",
     "metadata": {},
     "source": [
      "The **height** - shows the intensity of gaussian approximation\n",
      "\n",
      "**rsqwaared** - quality of Gaussian approximatation (the r>0.98 is good). It is show, where pulse is gaussian\n",
      "\n",
      "**center_x** and **center_y** - center of gaussian (in pixels)\n",
      "\n",
      "**1/width_x** and **1/width_x** - the bigge values - the closer to waist\n",
      "\n",
      "Coordinates on z-axis  - distance from original spike"
     ]
    },
    {
     "cell_type": "code",
     "collapsed": false,
     "input": [
      "#TODO: check limits and sizes\n",
      "res={}\n",
      "plt.figure(figsize=(20,20))\n",
      "for gaussian_param in ['height', 'rsquared', 'width_x', 'width_y','center_x', 'center_y','intensity']:\n",
      "    z=[]\n",
      "    res[gaussian_param] = numpy.zeros((len(data.keys()),len(data.values()[0][gaussian_param])))\n",
      "    for ik, k in enumerate(data.iterkeys()):\n",
      "        z.append(float(k))\n",
      "        res[gaussian_param][ik,:]=data[k][gaussian_param]\n",
      "z=np.array(z)\n",
      "\n",
      "\n",
      "for ig, gaussian_param in enumerate(['height', 'rsquared', 'width_x', 'width_y','center_x', 'center_y','intensity']):\n",
      "    extents = [0, res[gaussian_param].shape[1], z.min(), z.max()]\n",
      "    \n",
      "    X,Y = np.meshgrid(np.arange(extents[1]),z)\n",
      "    Xs,Ys=np.meshgrid(np.arange(extents[1]),np.linspace(extents[2],extents[3],200))\n",
      "    \n",
      "    res_resampled = plt.griddata(X.flatten(), Y.flatten(), res[gaussian_param].flatten(), Xs, Ys)\n",
      "    \n",
      "    plt.subplot(421+ig)\n",
      "    if gaussian_param == 'rsquared':\n",
      "        plt.pcolor(Xs, Ys, res_resampled, vmin=0.98)\n",
      "        plt.title(gaussian_param)\n",
      "    elif gaussian_param.startswith('width'):\n",
      "        plt.pcolor(Xs, Ys, 1./res_resampled)\n",
      "        plt.title('1/'+gaussian_param)\n",
      "    else:\n",
      "        plt.pcolor(Xs, Ys, res_resampled)\n",
      "        plt.title(gaussian_param)\n",
      "    plt.ylabel('z, m')\n",
      "    plt.xlabel('Slice number')\n",
      "    plt.axis('tight')\n",
      "    plt.colorbar()\n",
      "    \n",
      "plt.show()"
     ],
     "language": "python",
     "metadata": {},
     "outputs": []
    },
    {
     "cell_type": "heading",
     "level": 2,
     "metadata": {},
     "source": [
      "Visual checking the beam profile"
     ]
    },
    {
     "cell_type": "code",
     "collapsed": false,
     "input": [
      "wf = Wavefront()\n",
      "wf.load_hdf5('0.h5')\n",
      "#show_gaussian_fit(wf)\n",
      "show_slices(wf, slice_numbers=None)"
     ],
     "language": "python",
     "metadata": {},
     "outputs": []
    },
    {
     "cell_type": "code",
     "collapsed": false,
     "input": [
      "wf = Wavefront()\n",
      "wf.load_hdf5('10.0000.h5')\n",
      "#show_gaussian_fit(wf)\n",
      "show_slices(wf, slice_numbers=None)"
     ],
     "language": "python",
     "metadata": {},
     "outputs": []
    },
    {
     "cell_type": "code",
     "collapsed": false,
     "input": [
      "wf = Wavefront()\n",
      "wf.load_hdf5('20.0000_-50.0000.h5')\n",
      "#show_gaussian_fit(wf)\n",
      "show_slices(wf, slice_numbers=None)"
     ],
     "language": "python",
     "metadata": {},
     "outputs": []
    },
    {
     "cell_type": "code",
     "collapsed": false,
     "input": [
      "wf = Wavefront()\n",
      "wf.load_hdf5('10.0000_-50.0000.h5')\n",
      "#show_gaussian_fit(wf)\n",
      "show_slices(wf, slice_numbers=None)"
     ],
     "language": "python",
     "metadata": {},
     "outputs": []
    },
    {
     "cell_type": "code",
     "collapsed": false,
     "input": [
      "plt.figure(figsize=(10,10))\n",
      "plt.imshow(wf.get_intensity(3))"
     ],
     "language": "python",
     "metadata": {},
     "outputs": []
    },
    {
     "cell_type": "code",
     "collapsed": false,
     "input": [
      "!git add back_propagation.ipynb"
     ],
     "language": "python",
     "metadata": {},
     "outputs": []
    }
   ],
   "metadata": {}
  }
 ]
}