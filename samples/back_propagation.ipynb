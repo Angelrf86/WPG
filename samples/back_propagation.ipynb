{
 "metadata": {
  "name": ""
 },
 "nbformat": 3,
 "nbformat_minor": 0,
 "worksheets": [
  {
   "cells": [
    {
     "cell_type": "code",
     "collapsed": false,
     "input": [
      "import sys\n",
      "sys.path.insert(0,'..')\n",
      "\n",
      "import os\n",
      "import math\n",
      "import copy\n",
      "\n",
      "import numpy as np\n",
      "import scipy.optimize\n",
      "\n",
      "from wpg.srwlib import SRWLOptD, SRWLOptC\n",
      "\n",
      "from wpg import Wavefront\n",
      "from wpg import Beamline\n",
      "\n",
      "from wpg import optical_elements \n",
      "import numpy as np\n",
      "\n",
      "import pylab as plt\n",
      "plt.ion()\n",
      "#http://dcache-door-photon03.desy.de:2980/LONG_PULSE/SASE12_5keV_14GeV_long_pulse_2013/SASE1_5keV_14GeV__1001015_0001.h5"
     ],
     "language": "python",
     "metadata": {},
     "outputs": []
    },
    {
     "cell_type": "code",
     "collapsed": false,
     "input": [
      "def gaussian(height, center_x, center_y, width_x, width_y):\n",
      "    \"\"\"Returns a gaussian function with the given parameters\"\"\"\n",
      "    width_x = float(width_x)\n",
      "    width_y = float(width_y)\n",
      "    return lambda x,y: height*np.exp(\n",
      "                -(((center_x-x)/width_x)**2+((center_y-y)/width_y)**2)/2)\n",
      "\n",
      "def moments(data):\n",
      "    \"\"\"Returns (height, x, y, width_x, width_y)\n",
      "    the gaussian parameters of a 2D distribution by calculating its\n",
      "    moments \"\"\"\n",
      "    total = data.sum()\n",
      "    X, Y = np.indices(data.shape)\n",
      "    x = (X*data).sum()/total\n",
      "    y = (Y*data).sum()/total\n",
      "    col = data[:, int(y)]\n",
      "    width_x = np.sqrt(abs((np.arange(col.size)-y)**2*col).sum()/col.sum())\n",
      "    row = data[int(x), :]\n",
      "    width_y = np.sqrt(abs((np.arange(row.size)-x)**2*row).sum()/row.sum())\n",
      "    height = data.max()\n",
      "    return height, x, y, width_x, width_y\n",
      "\n",
      "def fitgaussian(data):\n",
      "    \"\"\"Returns (height, x, y, width_x, width_y)\n",
      "    the gaussian parameters of a 2D distribution found by a fit\"\"\"\n",
      "    params = moments(data)\n",
      "    errorfunction = lambda p: np.ravel(gaussian(*p)(*indices(data.shape)) -\n",
      "                                 data)\n",
      "    p, success = scipy.optimize.leastsq(errorfunction, params)\n",
      "    \n",
      "    return p"
     ],
     "language": "python",
     "metadata": {},
     "outputs": []
    },
    {
     "cell_type": "code",
     "collapsed": false,
     "input": [
      "def show_slice(wfr, sn):\n",
      "    print wfr.data.arrEhor.shape\n",
      "    wf_intensity = wfr.get_intensity(polarization='vertical')\n",
      "    wf_phase = wfr.get_phase(polarization='vertical')\n",
      "    plt.figure(figsize=(20,10))\n",
      "    plt.subplot(121)\n",
      "    plt.imshow(wf_intensity[:,:,sn])\n",
      "    plt.subplot(122)\n",
      "    plt.imshow(wf_phase[:,:,sn])"
     ],
     "language": "python",
     "metadata": {},
     "outputs": []
    },
    {
     "cell_type": "code",
     "collapsed": false,
     "input": [
      "wf = Wavefront()\n",
      "wf.load_hdf5('SASE1_5keV_14GeV__1001018.h5')\n",
      "#wf.load_hdf5('Tutorial_intro/g8_0kev_bl_all.h5')"
     ],
     "language": "python",
     "metadata": {},
     "outputs": []
    },
    {
     "cell_type": "code",
     "collapsed": false,
     "input": [
      "show_slice(wf,10)"
     ],
     "language": "python",
     "metadata": {},
     "outputs": []
    },
    {
     "cell_type": "code",
     "collapsed": false,
     "input": [
      "wf_intensity = wf.get_intensity(polarization='vertical')\n",
      "data = wf_intensity[:,:,10]\n",
      "data = np.squeeze(data)"
     ],
     "language": "python",
     "metadata": {},
     "outputs": []
    },
    {
     "cell_type": "code",
     "collapsed": false,
     "input": [
      "plt.figure(figsize=(15,15))\n",
      "plt.subplot(211)\n",
      "plt.imshow(data, cmap=plt.cm.jet)\n",
      "\n",
      "params = fitgaussian(data)\n",
      "fit = gaussian(*params)\n",
      "\n",
      "fit_data = fit(*np.indices(data.shape))\n",
      "plt.contour(fit_data, cmap=plt.cm.copper)\n",
      "\n",
      "(height, x, y, width_x, width_y) = params\n",
      "print \"x : {0:.1f}\\n y : {1:.1f}\\n width_x : {2:.1f}\\n width_y : {3:.1f}\\n\".format(x, y, width_x, width_y)\n",
      "\n",
      "plt.subplot(223)\n",
      "\n",
      "plt.plot(data[:,int(x)], label='Data')\n",
      "plt.hold(True)\n",
      "plt.plot(fit_data[:,int(x)], label='Gaussian fit')\n",
      "plt.legend()\n",
      "\n",
      "plt.subplot(224)\n",
      "plt.plot(data[int(y),:], label='Data')\n",
      "plt.hold(True)\n",
      "plt.plot(fit_data[int(y),:], label='Gaussian fit')\n",
      "plt.legend()"
     ],
     "language": "python",
     "metadata": {},
     "outputs": []
    },
    {
     "cell_type": "code",
     "collapsed": false,
     "input": [
      "wf_intensity.shape"
     ],
     "language": "python",
     "metadata": {},
     "outputs": []
    },
    {
     "cell_type": "code",
     "collapsed": false,
     "input": [
      "#Wavefront Propagation Parameters:\n",
      "#[0]:  Auto-Resize (1) or not (0) Before propagation\n",
      "#[1]:  Auto-Resize (1) or not (0) After propagation\n",
      "#[2]:  Relative Precision for propagation with Auto-Resizing (1. is nominal)\n",
      "#[3]:  Allow (1) or not (0) for semi-analytical treatment of quadratic phase terms at propagation\n",
      "#[4]:  Do any Resizing on Fourier side, using FFT, (1) or not (0)\n",
      "#[5]:  Horizontal Range modification factor at Resizing (1. means no modification)\n",
      "#[6]:  Horizontal Resolution modification factor at Resizing\n",
      "#[7]:  Vertical Range modification factor at Resizing\n",
      "#[8]:  Vertical Resolution modification factor at Resizing\n",
      "#[9]:  Type of wavefront Shift before Resizing (not yet implemented)\n",
      "#[10]: New Horizontal wavefront Center position after Shift (not yet implemented)\n",
      "#[11]: New Vertical wavefront Center position after Shift (not yet implemented)\n",
      "\n",
      "#           [ 0,  1,  2,  3,  4, 5,   6,   7,   8,  9,  10, 11]      \n",
      "ppDrift  =  [ 0,  0,  1,  0,  0, 0.1, 10.0, 0.1, 10.0,  0,  0,   0]\n",
      "drift = optical_elements.Drift(0.0001)\n",
      "\n",
      "srwl_bl = SRWLOptC([drift], [ppDrift])\n",
      "bl=Beamline(srwl_bl)\n",
      "wf.store_hdf5('1.h5')\n",
      "new_wf = Wavefront()\n",
      "new_wf.load_hdf5('1.h5')"
     ],
     "language": "python",
     "metadata": {},
     "outputs": []
    },
    {
     "cell_type": "code",
     "collapsed": false,
     "input": [
      "bl.propagate(new_wf)"
     ],
     "language": "python",
     "metadata": {},
     "outputs": []
    },
    {
     "cell_type": "code",
     "collapsed": false,
     "input": [
      "#new_wf.store_hdf5('2.h5')"
     ],
     "language": "python",
     "metadata": {},
     "outputs": []
    },
    {
     "cell_type": "code",
     "collapsed": false,
     "input": [
      "show_slice(new_wf,10)"
     ],
     "language": "python",
     "metadata": {},
     "outputs": []
    },
    {
     "cell_type": "code",
     "collapsed": false,
     "input": [
      "wf_intensity = new_wf.get_intensity(polarization='vertical')\n",
      "data = wf_intensity[:,:,10]\n",
      "data = np.squeeze(data)\n",
      "\n",
      "plt.figure(figsize=(15,15))\n",
      "plt.subplot(211)\n",
      "plt.imshow(data, cmap=plt.cm.jet)\n",
      "\n",
      "params = fitgaussian(data)\n",
      "fit = gaussian(*params)\n",
      "\n",
      "fit_data = fit(*np.indices(data.shape))\n",
      "plt.contour(fit_data, cmap=plt.cm.copper)\n",
      "\n",
      "(height, x, y, width_x, width_y) = params\n",
      "print \"x : {0:.1f}\\n y : {1:.1f}\\n width_x : {2:.1f}\\n width_y : {3:.1f}\\n\".format(x, y, width_x, width_y)\n",
      "\n",
      "plt.subplot(223)\n",
      "\n",
      "plt.plot(data[:,int(x)], label='Data')\n",
      "plt.hold(True)\n",
      "plt.plot(fit_data[:,int(x)], label='Gaussian fit')\n",
      "plt.legend()\n",
      "\n",
      "plt.subplot(224)\n",
      "plt.plot(data[int(y),:], label='Data')\n",
      "plt.hold(True)\n",
      "plt.plot(fit_data[int(y),:], label='Gaussian fit')\n",
      "plt.legend()"
     ],
     "language": "python",
     "metadata": {},
     "outputs": []
    },
    {
     "cell_type": "code",
     "collapsed": false,
     "input": [],
     "language": "python",
     "metadata": {},
     "outputs": []
    }
   ],
   "metadata": {}
  }
 ]
}