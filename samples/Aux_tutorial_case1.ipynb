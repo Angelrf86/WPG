{
 "metadata": {
  "name": ""
 },
 "nbformat": 3,
 "nbformat_minor": 0,
 "worksheets": [
  {
   "cells": [
    {
     "cell_type": "code",
     "collapsed": false,
     "input": [
      "ekev = 6.742\n",
      "#nCRL1 = 1 #number of lenses, collimating\n",
      "delta = 7.511e-06\n",
      "attenLen = 3.88E-3\n",
      "\n",
      "ekev = 12.4   #@fill for other energies\n",
      "#nCRL1 = 1 #number of lenses, collimating\n",
      "delta = 2.211e-06\n",
      "attenLen = 28.514e-3\n",
      "\n",
      "ekev = 24.   #@fill for other energies\n",
      "#nCRL1 = 1 #number of lenses, collimating\n",
      "delta = 0.5901e-06\n",
      "attenLen = 0.25473\n",
      "\n",
      "\n",
      "\n"
     ],
     "language": "python",
     "metadata": {},
     "outputs": [],
     "prompt_number": 1
    },
    {
     "cell_type": "code",
     "collapsed": false,
     "input": [
      "print ('*****Collimating CRL1, imperfect mirror, focusing CRL2')\n",
      "plot_wfront(mwf, 'at '+str(d2exp)+' m',False, False, 1e-4,1e-6,'x', True)\n",
      "pylab.set_cmap('bone') #set color map, 'bone', 'hot', etc\n",
      "pylab.axis('tight')    \n",
      "print 'FWHMx [mm], FWHMy [mm]:',calculate_fwhm_y(mwf)*1e3,calculate_fwhm_y(mwf) "
     ],
     "language": "python",
     "metadata": {},
     "outputs": []
    }
   ],
   "metadata": {}
  }
 ]
}