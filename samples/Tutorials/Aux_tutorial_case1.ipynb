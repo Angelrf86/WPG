{
 "cells": [
  {
   "cell_type": "code",
   "execution_count": null,
   "metadata": {
    "collapsed": true
   },
   "outputs": [],
   "source": [
    "from __future__ import absolute_import\n",
    "from __future__ import division\n",
    "from __future__ import print_function\n",
    "from __future__ import unicode_literals"
   ]
  },
  {
   "cell_type": "code",
   "execution_count": null,
   "metadata": {
    "collapsed": false
   },
   "outputs": [],
   "source": [
    "ekev = 6.742\n",
    "#nCRL1 = 1 #number of lenses, collimating\n",
    "delta = 7.511e-06\n",
    "attenLen = 3.88E-3\n",
    "\n",
    "ekev = 12.4   #@fill for other energies\n",
    "#nCRL1 = 1 #number of lenses, collimating\n",
    "delta = 2.211e-06\n",
    "attenLen = 28.514e-3\n",
    "\n",
    "ekev = 24.   #@fill for other energies\n",
    "#nCRL1 = 1 #number of lenses, collimating\n",
    "delta = 0.5901e-06\n",
    "attenLen = 0.25473"
   ]
  },
  {
   "cell_type": "code",
   "execution_count": null,
   "metadata": {
    "collapsed": false
   },
   "outputs": [],
   "source": [
    "print('*****Collimating CRL1, imperfect mirror, focusing CRL2')\n",
    "plot_wfront(mwf, 'at '+str(d2exp)+' m',False, False, 1e-4,1e-6,'x', True)\n",
    "pylab.set_cmap('bone') #set color map, 'bone', 'hot', etc\n",
    "pylab.axis('tight')    \n",
    "print('FWHMx [mm], FWHMy [mm]:',calculate_fwhm_y(mwf)*1e3,calculate_fwhm_y(mwf))"
   ]
  }
 ],
 "metadata": {
  "kernelspec": {
   "display_name": "Python 3",
   "language": "python",
   "name": "python3"
  },
  "language_info": {
   "codemirror_mode": {
    "name": "ipython",
    "version": 3
   },
   "file_extension": ".py",
   "mimetype": "text/x-python",
   "name": "python",
   "nbconvert_exporter": "python",
   "pygments_lexer": "ipython3",
   "version": "3.5.1"
  }
 },
 "nbformat": 4,
 "nbformat_minor": 0
}
