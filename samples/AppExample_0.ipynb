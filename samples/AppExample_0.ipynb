{
 "metadata": {
  "name": ""
 },
 "nbformat": 3,
 "nbformat_minor": 0,
 "worksheets": [
  {
   "cells": [
    {
     "cell_type": "heading",
     "level": 1,
     "metadata": {},
     "source": [
      "Wavefront propagation simulation tutorial"
     ]
    },
    {
     "cell_type": "heading",
     "level": 2,
     "metadata": {},
     "source": [
      "Example 1: Propagation Gaussian through horisontal offset mirrors (HOMs)"
     ]
    },
    {
     "cell_type": "heading",
     "level": 3,
     "metadata": {},
     "source": [
      "Import modules"
     ]
    },
    {
     "cell_type": "code",
     "collapsed": false,
     "input": [
      "#Importing necessary modules:\n",
      "\n",
      "import sys\n",
      "sys.path.insert(0,'..')\n",
      "\n",
      "import os\n",
      "import time\n",
      "import copy\n",
      "import numpy\n",
      "import pylab\n",
      "\n",
      "\n",
      "#import SRW core functions\n",
      "from wpg.srwlib import srwl,SRWLOptD,SRWLOptA,SRWLOptC,SRWLOptT\n",
      "\n",
      "#import SRW helpers functions\n",
      "from wpg.useful_code.srwutils import AuxTransmAddSurfHeightProfileScaled\n",
      "\n",
      "#import some helpers functions\n",
      "from wpg.useful_code.wfrutils import calculate_fwhm_x, plot_wfront, calculate_fwhm_y, print_beamline, get_mesh\n",
      "\n",
      "#Import base wavefront class\n",
      "from wpg import Wavefront\n",
      "\n",
      "#Gaussian beam generator\n",
      "from wpg.generators import build_gauss_wavefront_xy\n",
      "\n",
      "pylab.ion()"
     ],
     "language": "python",
     "metadata": {},
     "outputs": []
    },
    {
     "cell_type": "heading",
     "level": 3,
     "metadata": {},
     "source": [
      "Define helpers functions"
     ]
    },
    {
     "cell_type": "code",
     "collapsed": false,
     "input": [
      "#Plotting helper functions\n",
      "def plot_1d(profile, title_fig, title_x, title_y):\n",
      "    pylab.plot(profile[0], profile[1])\n",
      "    pylab.xlabel(title_x)\n",
      "    pylab.ylabel(title_y)\n",
      "    pylab.title(title_fig)\n",
      "    pylab.grid(True)\n",
      "\n",
      "\n",
      "def plot_2d(amap, xmin, xmax, ymin, ymax, title_fig, title_x, title_y):\n",
      "    pylab.imshow(amap, extent=(ymin, ymax, xmin, xmax))\n",
      "    pylab.colorbar()\n",
      "    pylab.xlabel(title_x)\n",
      "    pylab.ylabel(title_y)\n",
      "    pylab.title(title_fig)\n"
     ],
     "language": "python",
     "metadata": {},
     "outputs": []
    },
    {
     "cell_type": "code",
     "collapsed": false,
     "input": [
      "#calculate source size from photon energy and FWHM angular divergence\n",
      "def calculate_source_fwhm(ekev, theta_fwhm):\n",
      "    wl = 12.39e-10/ekev\n",
      "    k = 2 * sqrt(2*log(2))\n",
      "    theta_sigma = theta_fwhm /k\n",
      "    sigma0 = wl /(2*numpy.pi*theta_sigma)\n",
      "    return sigma0*k"
     ],
     "language": "python",
     "metadata": {},
     "outputs": []
    },
    {
     "cell_type": "code",
     "collapsed": false,
     "input": [
      "#calculate angular divergence using formula from CDR2011\n",
      "def calculate_theta_fwhm_cdr(ekev,qnC):\n",
      "    theta_fwhm = (17.2 - 6.4 * sqrt(qnC))*1e-6/ekev**0.85\n",
      "    return theta_fwhm"
     ],
     "language": "python",
     "metadata": {},
     "outputs": []
    },
    {
     "cell_type": "code",
     "collapsed": false,
     "input": [
      "#define optical path difference (OPD) from mirror profile, i.e.\n",
      "#fill the struct opTrErMirr\n",
      "#input: \n",
      "#    mdatafile: an ascii file with mirror profile data\n",
      "#    ncol:      number of columns in the file\n",
      "#    delim:     delimiter between numbers in an row, can be space (' '), tab '\\t', etc\n",
      "#    Orient:    mirror orientation, 'x' (horizontal) or 'y' (vertical)\n",
      "#    theta:     incidence angle\n",
      "#    scale:     scaling factor for the mirror profile\n",
      "def defineOPD(opTrErMirr, mdatafile, ncol, delim, Orient, theta, scale):\n",
      "    heightProfData = numpy.loadtxt(mdatafile).T\n",
      "    AuxTransmAddSurfHeightProfileScaled(opTrErMirr, heightProfData, Orient, theta, scale)\n",
      "    pylab.figure()\n",
      "    plot_1d(heightProfData,'profile from ' + mdatafile,'x (m)', 'h (m)') #@todo add the func def in on top of example"
     ],
     "language": "python",
     "metadata": {},
     "outputs": []
    },
    {
     "cell_type": "heading",
     "level": 3,
     "metadata": {},
     "source": [
      "Defining initial wavefront and writing electric field data to h5-file"
     ]
    },
    {
     "cell_type": "code",
     "collapsed": false,
     "input": [
      "# #**********************Input Wavefront Structure and Parameters\n",
      "print('*****defining initial wavefront and writing electric field data to h5-file...')\n",
      "strInputDataFolder = 'data0/'  # input data sub-folder name\n",
      "\n",
      "d2m1_sase1 = 246.5\n",
      "d2m1_sase3 = 281.0\n",
      "qnC = 0.1                    # e-bunch charge, [nC]\n",
      "ekev_sase1 = 8.0\n",
      "thetaOM_sase1 = 2.5e-3       # @check!\n",
      "ekev_sase3 = 3.0\n",
      "thetaOM_sase3 = 9.e-3\n",
      "\n",
      "ekev = ekev_sase1\n",
      "thetaOM = thetaOM_sase1\n",
      "d2m1 = d2m1_sase1\n",
      "z1 = d2m1\n",
      "theta_fwhm = calculate_theta_fwhm_cdr(ekev,qnC)\n",
      "k = 2*sqrt(2*log(2))\n",
      "sigX = 12.4e-10*k/(ekev*4*pi*theta_fwhm) \n",
      "print 'waist_fwhm [um], theta_fwhms [urad]:', sigX*k*1e6, theta_fwhm*1e6\n",
      "#define limits\n",
      "range_xy = theta_fwhm/k*z1*7. # sigma*7 beam size\n",
      "np=300\n",
      "\n",
      "wfr0=build_gauss_wavefront_xy(np,np,ekev,-range_xy/2,range_xy/2,-range_xy/2,range_xy/2,sigX,sigX,z1)    \n",
      "    \n",
      "mwf = Wavefront(wfr0)\n",
      "ip = floor(ekev)\n",
      "frac = numpy.floor((ekev - ip)*1e3)\n",
      "fname0 = 'g' + str(int(ip))+'_'+str(int(frac))+'kev'\n",
      "print('save hdf5: '+fname0+'.h5')\n",
      "ifname = os.path.join(strInputDataFolder,fname0+'.h5')\n",
      "mwf.store_hdf5(ifname)\n",
      "print('done')\n",
      "plot_wfront(mwf, 'at '+str(z1)+' m',False, False, 1e-5,1e-5,'x', True)\n",
      "pylab.set_cmap('bone') #set color map, 'bone', 'hot', etc\n",
      "fwhm_x = calculate_fwhm_x(mwf)\n",
      "print 'FWHMx [mm], theta_fwhm [urad]:',fwhm_x*1e3,fwhm_x/z1*1e6"
     ],
     "language": "python",
     "metadata": {},
     "outputs": []
    },
    {
     "cell_type": "heading",
     "level": 3,
     "metadata": {},
     "source": [
      "Define oltical beamlines (with and without mirror)"
     ]
    },
    {
     "cell_type": "code",
     "collapsed": false,
     "input": [
      "d2exp_sase1 = 904.0\n",
      "d2exp_sase3 = 418.0\n",
      "\n",
      "d2exp = d2exp_sase1\n",
      "z2 = d2exp - d2m1\n",
      "DriftM1_Exp = SRWLOptD(z2) #Drift from first offset mirror (M1) to exp hall\n",
      "horApM1 = 0.8*thetaOM\n",
      "opApM1 = SRWLOptA('r', 'a', horApM1, range_xy)  # clear aperture of the Offset Mirror(s)\n",
      "    \n",
      "#Wavefront Propagation Parameters:\n",
      "#[0]:  Auto-Resize (1) or not (0) Before propagation\n",
      "#[1]:  Auto-Resize (1) or not (0) After propagation\n",
      "#[2]:  Relative Precision for propagation with Auto-Resizing (1. is nominal)\n",
      "#[3]:  Allow (1) or not (0) for semi-analytical treatment of quadratic phase terms at propagation\n",
      "#[4]:  Do any Resizing on Fourier side, using FFT, (1) or not (0)\n",
      "#[5]:  Horizontal Range modification factor at Resizing (1. means no modification)\n",
      "#[6]:  Horizontal Resolution modification factor at Resizing\n",
      "#[7]:  Vertical Range modification factor at Resizing\n",
      "#[8]:  Vertical Resolution modification factor at Resizing\n",
      "#[9]:  Type of wavefront Shift before Resizing (not yet implemented)\n",
      "#[10]: New Horizontal wavefront Center position after Shift (not yet implemented)\n",
      "#[11]: New Vertical wavefront Center position after Shift (not yet implemented)\n",
      "#                [ 0] [1] [2]  [3] [4] [5]  [6]  [7]  [8]  [9] [10] [11] \n",
      "ppM1 =           [ 0,  0, 1.0,  0,  0, 1.0, 1.0, 1.0, 1.0,  0,  0,   0]\n",
      "ppDriftM1_Exp =  [ 0,  0, 1.0,  1,  0, 2.0, 1.5, 2.0, 1.5,  0,  0,   0]\n",
      "ppTrErM1 =       [ 0,  0, 1.0,  0,  0, 1.0, 1.0, 1.0, 1.0,  0,  0,   0]\n",
      "\n",
      "optBL0 = SRWLOptC([opApM1,  DriftM1_Exp], \n",
      "                    [ppM1,ppDriftM1_Exp]) \n",
      "\n",
      "scale = 5\n",
      "opTrErM1 = SRWLOptT(1500, 100, horApM1, range_xy)\n",
      "defineOPD(opTrErM1, os.path.join(strInputDataFolder,'mirror1.dat'), 2, '\\t', 'x',  thetaOM, scale)\n",
      "opdTmp=numpy.array(opTrErM1.arTr)[1::2].reshape(opTrErM1.mesh.ny,opTrErM1.mesh.nx)\n",
      "figure()\n",
      "plot_2d(opdTmp, opTrErM1.mesh.xStart,opTrErM1.mesh.xFin,opTrErM1.mesh.yStart,opTrErM1.mesh.yFin,\n",
      "        'OPD', 'x (m)', 'y (m)')  \n",
      "\n",
      "optBL1 = SRWLOptC([opApM1,opTrErM1,  DriftM1_Exp], \n",
      "                    [ppM1,ppTrErM1,ppDriftM1_Exp]) \n"
     ],
     "language": "python",
     "metadata": {},
     "outputs": []
    },
    {
     "cell_type": "heading",
     "level": 3,
     "metadata": {},
     "source": [
      "Propagating wavefront without mirror"
     ]
    },
    {
     "cell_type": "code",
     "collapsed": false,
     "input": [
      "bPlotted = False\n",
      "isHlog = True\n",
      "isVlog = False\n",
      "bRead = False\n",
      "bSaved = True\n",
      "optBL = optBL0\n",
      "strBL = 'bl0'\n",
      "pos_title = 'at exp hall wall'\n",
      "print '*****setting-up optical elements, beamline:', optBL\n",
      "print_beamline(optBL)\n",
      "startTime = time.time()\n",
      "\n",
      "print '*****reading wavefront from h5 file...'\n",
      "w2 = Wavefront()\n",
      "w2.load_hdf5(ifname)\n",
      "wfr = w2._srwl_wf\n",
      "\n",
      "print '*****propagating wavefront (with resizing)...'\n",
      "srwl.PropagElecField(wfr, optBL)\n",
      "mwf = Wavefront(wfr)\n",
      "print '[nx, ny, xmin, xmax, ymin, ymax]', get_mesh(mwf)\n",
      "if bSaved:\n",
      "    print 'save hdf5:', fname0+'_'+strBL+'.h5'\n",
      "    mwf.store_hdf5(os.path.join(strInputDataFolder, fname0+'_'+strBL+'.h5'))\n",
      "print 'done'\n",
      "print 'propagation lasted:', round((time.time() - startTime) / 6.) / 10., 'min'"
     ],
     "language": "python",
     "metadata": {},
     "outputs": []
    },
    {
     "cell_type": "code",
     "collapsed": false,
     "input": [
      "plot_wfront(mwf, 'at '+str(d2exp)+' m',False, False, 1e-5,1e-5,'x', True)\n",
      "pylab.set_cmap('bone') #set color map, 'bone', 'hot', etc\n",
      "pylab.axis('tight')    \n",
      "print 'FWHMx [mm], theta_fwhm [urad]:',calculate_fwhm_x(mwf)*1e3,calculate_fwhm_x(mwf)/(z1+z2)*1e6\n",
      "print 'FWHMy [mm], theta_fwhm [urad]:',calculate_fwhm_y(mwf)*1e3,calculate_fwhm_y(mwf)/(z1+z2)*1e6"
     ],
     "language": "python",
     "metadata": {},
     "outputs": []
    },
    {
     "cell_type": "heading",
     "level": 3,
     "metadata": {},
     "source": [
      "Propagating wavefront without mirror"
     ]
    },
    {
     "cell_type": "code",
     "collapsed": false,
     "input": [
      "bPlotted = False\n",
      "isHlog = True\n",
      "isVlog = False\n",
      "bSaved = True\n",
      "optBL = optBL1\n",
      "strBL = 'bl1'\n",
      "pos_title = 'at exp hall wall'\n",
      "print '*****setting-up optical elements, beamline:', optBL\n",
      "print_beamline(optBL)\n",
      "startTime = time.time()\n",
      "print '*****reading wavefront from h5 file...'\n",
      "w2 = Wavefront()\n",
      "w2.load_hdf5(ifname)\n",
      "wfr = w2._srwl_wf\n",
      "print '*****propagating wavefront (with resizing)...'\n",
      "srwl.PropagElecField(wfr, optBL)\n",
      "mwf = Wavefront(wfr)\n",
      "print '[nx, ny, xmin, xmax, ymin, ymax]', get_mesh(mwf)\n",
      "if bSaved:\n",
      "    print 'save hdf5:', fname0+'_'+strBL+'.h5'\n",
      "    mwf.store_hdf5(os.path.join(strInputDataFolder,fname0+'_'+strBL+'.h5'))\n",
      "print 'done'\n",
      "print 'propagation lasted:', round((time.time() - startTime) / 6.) / 10., 'min'"
     ],
     "language": "python",
     "metadata": {},
     "outputs": []
    },
    {
     "cell_type": "code",
     "collapsed": false,
     "input": [
      "plot_wfront(mwf, 'at '+str(d2exp)+' m',False, False, 1e-5,1e-5,'x', True)\n",
      "pylab.set_cmap('bone') #set color map, 'bone', 'hot', etc\n",
      "pylab.axis('tight')    \n",
      "print 'FWHMx [mm], theta_fwhm [urad]:',calculate_fwhm_x(mwf)*1e3,calculate_fwhm_x(mwf)/(z1+z2)*1e6\n",
      "print 'FWHMy [mm], theta_fwhm [urad]:',calculate_fwhm_y(mwf)*1e3,calculate_fwhm_y(mwf)/(z1+z2)*1e6"
     ],
     "language": "python",
     "metadata": {},
     "outputs": []
    },
    {
     "cell_type": "code",
     "collapsed": false,
     "input": [],
     "language": "python",
     "metadata": {},
     "outputs": []
    }
   ],
   "metadata": {}
  }
 ]
}