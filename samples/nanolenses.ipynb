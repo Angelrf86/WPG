{
 "metadata": {
  "name": "",
  "signature": "sha256:de50c1ad9354345e215fd013f6468f9fefa7fb452e223fc5e0f6ab64a1b455ea"
 },
 "nbformat": 3,
 "nbformat_minor": 0,
 "worksheets": [
  {
   "cells": [
    {
     "cell_type": "code",
     "collapsed": false,
     "input": [
      "%pylab inline"
     ],
     "language": "python",
     "metadata": {},
     "outputs": []
    },
    {
     "cell_type": "code",
     "collapsed": false,
     "input": [
      "import os\n",
      "import sys\n",
      "import numpy as np\n",
      "import pylab as plt\n",
      "import h5py\n",
      "import datetime\n",
      "\n",
      "sys.path.insert(0,'..')"
     ],
     "language": "python",
     "metadata": {},
     "outputs": []
    },
    {
     "cell_type": "code",
     "collapsed": false,
     "input": [
      "import wpg\n",
      "from wpg.converters.nanolenses import EdfFile"
     ],
     "language": "python",
     "metadata": {},
     "outputs": []
    },
    {
     "cell_type": "heading",
     "level": 1,
     "metadata": {},
     "source": [
      "Reading from EDF"
     ]
    },
    {
     "cell_type": "code",
     "collapsed": false,
     "input": [
      "def get_array_from_edf(edf_file_name):\n",
      "    print 'Processing EDF file {}'.format(edf_file_name)\n",
      "    edf_structure = EdfFile.EdfFile(edf_file_name,'r')\n",
      "    edf_header = edf_structure.GetHeader(0)\n",
      "    print 'Number of images in EDF file {}'.format(edf_structure.GetNumImages())\n",
      "    print 'EDF header:'\n",
      "    for k,v in edf_header.items():\n",
      "        print '\\t{:20}:\\t{}'.format(k,v)\n",
      "    print edf_structure.GetData(0).dtype\n",
      "    image_data = edf_structure.GetData(0).astype('float32')\n",
      "    image_min = np.float32(edf_header['TUD_ScalingMin'])\n",
      "    image_max = np.float32(edf_header['TUD_ScalingMax'])\n",
      "    \n",
      "    image_data_scaled = (image_data-image_data.min())/(image_data.max()-image_data.min())\n",
      "    image_data_scaled = image_data_scaled*(image_max-image_min)+image_min\n",
      "    return image_data_scaled\n",
      "\n",
      "def get_wavefront_from_edf(edf_real_file_name, edf_imag_file_name):\n",
      "    wavefront_real = get_array_from_edf(edf_real_file_name)\n",
      "    wavefront_imag = get_array_from_edf(edf_imag_file_name)\n",
      "    res={'real': wavefront_real, 'imag': wavefront_imag}\n",
      "    return res\n",
      "    "
     ],
     "language": "python",
     "metadata": {},
     "outputs": []
    },
    {
     "cell_type": "code",
     "collapsed": false,
     "input": [
      "nano_re_file = '../wpg/converters/nanolenses/sources/testillu_re.edf'\n",
      "nano_im_file = '../wpg/converters/nanolenses/sources/testillu_im.edf'"
     ],
     "language": "python",
     "metadata": {},
     "outputs": []
    },
    {
     "cell_type": "code",
     "collapsed": false,
     "input": [
      "wf = get_wavefront_from_edf(nano_re_file, nano_im_file)"
     ],
     "language": "python",
     "metadata": {},
     "outputs": []
    },
    {
     "cell_type": "heading",
     "level": 2,
     "metadata": {},
     "source": [
      "Where is th mesh and polarization?"
     ]
    },
    {
     "cell_type": "code",
     "collapsed": false,
     "input": [
      "plt.figure(figsize=(15,5))\n",
      "plt.subplot(131)\n",
      "plt.imshow(wf['real'])\n",
      "plt.colorbar()\n",
      "plt.title('Real part')\n",
      "plt.subplot(132)\n",
      "plt.imshow(wf['imag'])\n",
      "plt.colorbar()\n",
      "plt.title('Imaginary part')\n",
      "plt.subplot(133)\n",
      "plt.imshow(np.sqrt(wf['real']**2+wf['imag']**2))\n",
      "plt.colorbar()\n",
      "plt.title('Intensity')\n"
     ],
     "language": "python",
     "metadata": {},
     "outputs": []
    },
    {
     "cell_type": "heading",
     "level": 1,
     "metadata": {},
     "source": [
      "Writing EDF"
     ]
    },
    {
     "cell_type": "code",
     "collapsed": false,
     "input": [
      "wf = wpg.Wavefront()\n",
      "wf.load_hdf5('../wpg/tests/tests_data/my_gauss.h5')"
     ],
     "language": "python",
     "metadata": {},
     "outputs": []
    },
    {
     "cell_type": "code",
     "collapsed": false,
     "input": [
      "wf.params.Mesh.nSlices"
     ],
     "language": "python",
     "metadata": {},
     "outputs": []
    },
    {
     "cell_type": "code",
     "collapsed": false,
     "input": [
      "real_part = wf.get_real_part(polarization='vertical').sum(axis=-1)\n",
      "plt.imshow(real_part)"
     ],
     "language": "python",
     "metadata": {},
     "outputs": []
    },
    {
     "cell_type": "heading",
     "level": 2,
     "metadata": {},
     "source": [
      "What do with polarisation?"
     ]
    },
    {
     "cell_type": "code",
     "collapsed": false,
     "input": [
      "imag_part = wf.get_imag_part(polarization='vertical').sum(axis=-1)\n",
      "plt.imshow(imag_part)\n",
      "plt.colorbar()"
     ],
     "language": "python",
     "metadata": {},
     "outputs": []
    },
    {
     "cell_type": "code",
     "collapsed": false,
     "input": [
      "def store_array_to_edf(in_array, file_name):\n",
      "    array_min = in_array.min()\n",
      "    array_max = in_array.max()\n",
      "    out_array = (in_array - array_min)/(array_max - array_min)*np.iinfo(np.uint16).max\n",
      "    out_array = out_array.astype('uint16')\n",
      "    edf_headers = {\n",
      "        'TUD_ScalingMin':array_min,\n",
      "        'TUD_ScalingMax':array_max,\n",
      "        'TUD_MatlibVersion':'tomo_version_9.0',\n",
      "        'TUD_FilenameCurr':file_name,\n",
      "        'TUD_FilenamePrev':file_name,\n",
      "        'VersionNumber':'edf_version_10.5',\n",
      "        'TUD_DateCurr':str(datetime.datetime.now()),\n",
      "        'TUD_DatePrev':str(datetime.datetime.now()),\n",
      "        'TUD_Step_y':'1',\n",
      "        'TUD_Step_x':'1',\n",
      "        'TUD_FileType':'imagedata',\n",
      "        'TUD_FilenameOrig':file_name,\n",
      "        'TUD_HeaderLines':'26',\n",
      "        'TUD_DateOrig':str(datetime.datetime.now()),\n",
      "        'TUD_HeaderSize':'2048',\n",
      "        'TUD_RotAxisPosY':'-10000',\n",
      "        'TUD_RotAxisPosX':'-1000'\n",
      "    }\n",
      "    #todo add custom headers\n",
      "    edf_file = EdfFile.EdfFile(file_name)\n",
      "    edf_file.WriteImage(edf_headers, out_array,0)"
     ],
     "language": "python",
     "metadata": {},
     "outputs": []
    },
    {
     "cell_type": "code",
     "collapsed": false,
     "input": [
      "edf_file = store_array_to_edf(imag_part,'test.edf')"
     ],
     "language": "python",
     "metadata": {},
     "outputs": []
    },
    {
     "cell_type": "code",
     "collapsed": false,
     "input": [
      "res = get_array_from_edf('test.edf')"
     ],
     "language": "python",
     "metadata": {},
     "outputs": []
    },
    {
     "cell_type": "code",
     "collapsed": false,
     "input": [
      "plt.imshow(res)\n",
      "plt.colorbar()"
     ],
     "language": "python",
     "metadata": {},
     "outputs": []
    }
   ],
   "metadata": {}
  }
 ]
}