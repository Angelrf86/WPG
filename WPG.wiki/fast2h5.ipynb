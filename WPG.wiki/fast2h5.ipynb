{
 "metadata": {
  "name": "fast2h5"
 },
 "nbformat": 3,
 "nbformat_minor": 0,
 "worksheets": [
  {
   "cells": [
    {
     "cell_type": "code",
     "collapsed": false,
     "input": [
      "#Importing necessary modules:\n",
      "\n",
      "import sys\n",
      "sys.path.insert(0,'..')\n",
      "\n",
      "import os\n",
      "import time\n",
      "import numpy\n",
      "import pylab\n",
      "import h5py\n",
      "\n",
      "import errno\n",
      "\n",
      "#import SRW core functions\n",
      "from wpg.srwlib import srwl\n",
      "\n",
      "#import some helpers functions\n",
      "from wpg.useful_code.wfrutils import plot_wfront, calculate_fwhm_x, calculate_fwhm_y, get_mesh\n",
      "\n",
      "#Import base wavefront class\n",
      "from wpg import Wavefront\n",
      "\n",
      "pylab.ion()"
     ],
     "language": "python",
     "metadata": {},
     "outputs": [],
     "prompt_number": 2
    },
    {
     "cell_type": "code",
     "collapsed": false,
     "input": [
      "#define FAST2XY_2013.dat input parameters:\n",
      "#ASCII file name suffix and prefix,\n",
      "#\n",
      "trd1 = 3.                     # Start time for conversion (fs)\n",
      "trd2 = 8.0                    # End time for conversion (fs)\n",
      "nxy = 100                     # Mesh parameter, number of nodes = 2*NXY=+1\n",
      "nskip = 5                     # skip nskip slices\t\n",
      "ifb = 1001                    # File No. (FAST FEL code run number)\n",
      "nzc = 18                      # Output point No., defines active undulator length (see below)\n",
      "namg = \"SASE1_5keV_14GeV_\"\t# Generic file name prefix\n",
      "\n",
      "nharm = 1                     # harmonic number [1, 3]\n",
      "namt = 'FXY'+str(nharm)+'_'   # name of FEL output ASCII file "
     ],
     "language": "python",
     "metadata": {},
     "outputs": [],
     "prompt_number": 3
    },
    {
     "cell_type": "code",
     "collapsed": false,
     "input": [
      "# set name of FEL output ASCII file\n",
      "# i.e. output of fast2xy_2013.exe, for details see\n",
      "# its input (parameter) file FAST2XY_2013.dat\n",
      "def set_name_2013(namg,namt,ifb,nz):\n",
      "    # suppose that undulator position identifier, nz, has 2 digits\n",
      "    name = namg+namt+str(ifb)+'0'+str(nz) \n",
      "    return name"
     ],
     "language": "python",
     "metadata": {},
     "outputs": [],
     "prompt_number": 4
    },
    {
     "cell_type": "code",
     "collapsed": true,
     "input": [
      "def parse_toe_file(f_name):\n",
      "    \"\"\" Parse *.res file to list of strings \"\"\"\n",
      "    #TODO: now all rows keeped in memory. We should store only slices we need.\n",
      "    rows = []\n",
      "    params = []\n",
      "    with open(f_name,'r') as f:\n",
      "        for il,l in enumerate(f.readlines()):    \n",
      "            try:\n",
      "                t=numpy.array(l.split(),dtype='float32')\n",
      "                if il<2:\n",
      "                    params.append(t)\n",
      "                else:\n",
      "                    rows.append(t)\n",
      "            except ValueError:\n",
      "                print 'Error pasing line #%s in file %s' %(il,f_name)\n",
      "    return params, rows\n",
      "\n",
      "\n",
      "#Example of usage:\n",
      "#params, rows=parse_toe_file(toe_file_name)"
     ],
     "language": "python",
     "metadata": {},
     "outputs": [],
     "prompt_number": 5
    },
    {
     "cell_type": "code",
     "collapsed": true,
     "input": [
      "def create_numpy_array_from_rows(rows,slices=None):\n",
      "    # slice size (Re, Im)\n",
      "    N=len(rows[0])/2\n",
      "    \n",
      "    if slices is None:\n",
      "        slices=range(len(rows)/N)\n",
      "    slice_count=len(slices)\n",
      "\n",
      "    y = numpy.array(rows,dtype='float32').reshape((slice_count,N,N,2))\n",
      "    \n",
      "    print y.shape\n",
      "    y=numpy.swapaxes(y,0,2)\n",
      "    print y.shape\n",
      "    return y"
     ],
     "language": "python",
     "metadata": {},
     "outputs": [],
     "prompt_number": 6
    },
    {
     "cell_type": "code",
     "collapsed": true,
     "input": [
      "#save 3d array to hdf5\n",
      "def store_wavefront_hdf5(wf_struct,file_name):\n",
      "    \"\"\" Store wavefront structure in hdf5 file\"\"\"\n",
      "    def store_group(group,pearent_goup):\n",
      "        for k,v in group.items():\n",
      "            if isinstance(v,dict):\n",
      "                tmp_group=pearent_goup.create_group(k)\n",
      "                store_group(v,tmp_group)\n",
      "            else:\n",
      "                store_value(k,v,pearent_goup)\n",
      "    \n",
      "    def store_value(name,value,group):\n",
      "        filed_data=value[0]\n",
      "        filed_type=value[1]\n",
      "        if filed_type=='s':\n",
      "            group.create_dataset(name,data=filed_data)\n",
      "        else:\n",
      "            try:\n",
      "                group.create_dataset(name,data=filed_data,dtype=filed_type,chunks=True,\n",
      "                             compression='gzip', compression_opts=9)\n",
      "            except TypeError:\n",
      "                group.create_dataset(name,data=filed_data,dtype=filed_type)\n",
      "                \n",
      "    with h5py.File(file_name, 'w') as res_file:\n",
      "        store_group(wf_struct,res_file)"
     ],
     "language": "python",
     "metadata": {},
     "outputs": [],
     "prompt_number": 7
    },
    {
     "cell_type": "code",
     "collapsed": false,
     "input": [
      "def load_wavefront_hdf5(file_name):\n",
      "    \"\"\"Return dictionary with fields of wavefront\"\"\"\n",
      "    def load_group(group,d):\n",
      "        for k,v in dict(group).items():\n",
      "            if isinstance(v,h5py.Group):\n",
      "                d[k.encode()]={}\n",
      "                load_group(v,d[k.encode()])\n",
      "            elif isinstance(v,h5py.Dataset):\n",
      "                d[k.encode()]=v.value\n",
      "            else:\n",
      "                raise TypeError\n",
      "    \n",
      "    wf={}\n",
      "    with h5py.File(file_name, 'r') as h5_file:\n",
      "        load_group(h5_file,wf)\n",
      "        \n",
      "    return wf"
     ],
     "language": "python",
     "metadata": {},
     "outputs": [],
     "prompt_number": 8
    },
    {
     "cell_type": "code",
     "collapsed": false,
     "input": [
      "def _resample(wf, axis, data, x0, x1):\n",
      "    if axis.lower()=='x':\n",
      "        y = data[data.shape[0]/2,:]\n",
      "        x = numpy.linspace(wf.params.Mesh.xMin, wf.params.Mesh.xMax, y.shape[0])\n",
      "    elif axis.lower()=='y':\n",
      "        y = data[:,data.shape[1]/2]\n",
      "        x = numpy.linspace(wf.params.Mesh.yMin, wf.params.Mesh.yMax, y.shape[0])\n",
      "    else:\n",
      "        raise ValueError(\n",
      "            'Wrong axis {}, should be \"x\" or \"y\"'.format(axis))\n",
      "    \n",
      "    if not x0 is None:\n",
      "        xmin = x0\n",
      "    else:\n",
      "        xmin = x[0]\n",
      "    \n",
      "    if not x1 is None:\n",
      "        xmax = x1\n",
      "    else:\n",
      "        xmax = x[-1] \n",
      "    \n",
      "    x1 = numpy.linspace(xmin,xmax,len(y))\n",
      "    y1 = numpy.interp(x1, x,y)\n",
      "    return x1, y1\n",
      "    \n",
      "def intensity_cut(wf, axis, polarization, x0=None, x1=None, M=0):\n",
      "    \n",
      "    if polarization.lower()  == 'v' or polarization.lower() == 'vertical':\n",
      "        pol = 'vertical'\n",
      "    elif polarization.lower() == 'h' or polarization.lower() == 'horizontal':\n",
      "        pol = 'horizontal'\n",
      "    elif polarization.lower() == 't' or polarization.lower() == 'total':\n",
      "        pol = 'total'\n",
      "    else:\n",
      "        raise ValueError(\n",
      "            'Wrong polarization {}, should be \"v\" or \"vertical\"'+\n",
      "            ' or \"h\" or \"horizontal\" or \"t\" or \"total\"'.format(polarization))\n",
      "    \n",
      "    data = wf.get_intensity(slice_number=M, polarization=pol)\n",
      "    return _resample(wf, axis, data, x0, x1)\n",
      "\n",
      "def phase_cut(wf, axis, polarization, x0=None, x1=None, M=0):\n",
      "    \n",
      "    if polarization.lower()  == 'v' or polarization.lower() == 'vertical':\n",
      "        pol = 'vertical'\n",
      "    elif polarization.lower() == 'h' or polarization.lower() == 'horizontal':\n",
      "        pol = 'horizontal'\n",
      "    else:\n",
      "        raise ValueError(\n",
      "            'Wrong polarization {}, should be \"v\" or \"vertical\" or \"h\" or \"horizontal\"'.format(polarization))\n",
      "    \n",
      "    data = wf.get_phase(slice_number=M, polarization=pol)\n",
      "    return _resample(wf, axis, data, x0, x1)"
     ],
     "language": "python",
     "metadata": {},
     "outputs": [],
     "prompt_number": 9
    },
    {
     "cell_type": "code",
     "collapsed": false,
     "input": [
      "f_in = open('FAST2XY_2013.DAT','r')\n",
      "a = f_in.readlines()\n",
      "strInputPar = numpy.empty(len(a), dtype=object)\n",
      "strComment  = numpy.empty(len(a), dtype=object)\n",
      "print '==Beforehand=='\n",
      "for idx in range(len(a)): \n",
      "    strInputPar[idx] =  a[idx].split(' ',1)[0]\n",
      "    strComment[idx]  =  a[idx].split(' ',1)[1]\n",
      "    print strInputPar[idx]+strComment[idx].rstrip()\n",
      "f_in.close()\n",
      "strInputPar[0] = str(trd1)\n",
      "strInputPar[1] = str(trd2)\n",
      "strInputPar[2] = str(nxy)\n",
      "strInputPar[3] = str(nskip)\n",
      "strInputPar[4] = str(ifb)\n",
      "strInputPar[5] = str(nzc)\n",
      "strInputPar[6] = namg\n",
      "print '==Afterwards=='\n",
      "for idx in range(len(a)): \n",
      "    a[idx] = strInputPar[idx]+' '+strComment[idx].rstrip()\n",
      "    print a[idx]\n",
      "numpy.savetxt( 'FAST2XY_2013.DAT',a,fmt='%s')"
     ],
     "language": "python",
     "metadata": {},
     "outputs": [
      {
       "output_type": "stream",
       "stream": "stdout",
       "text": [
        "==Beforehand==\n",
        "3.6      TRD1 -\tStart time for conversion (fs)\n",
        "4.2    TRD2 -\tEnd time for conversion (fs)\n",
        "100    NXY\t -\tMesh parameter, number of nodes = 2*NXY=+1\n",
        "5      N    -  skip N slices\n",
        "1001   IFB\t - \tFile No.\n",
        "18     NZ\t -\tOutput point No.\n",
        "SASE1_5keV_14GeV_Generic file name prfix\n",
        "==Afterwards==\n",
        "3.0       TRD1 -\tStart time for conversion (fs)\n",
        "8.0     TRD2 -\tEnd time for conversion (fs)\n",
        "100     NXY\t -\tMesh parameter, number of nodes = 2*NXY=+1\n",
        "5       N    -  skip N slices\n",
        "1001    IFB\t - \tFile No.\n",
        "18      NZ\t -\tOutput point No.\n",
        "SASE1_5keV_14GeV_ Generic file name prfix\n"
       ]
      }
     ],
     "prompt_number": 10
    },
    {
     "cell_type": "code",
     "collapsed": false,
     "input": [
      "outp=os.popen(\"./fast2xy_2013.exe\").read()"
     ],
     "language": "python",
     "metadata": {},
     "outputs": [
      {
       "output_type": "stream",
       "stream": "stdout",
       "text": [
        " Searching file SASE1_5keV_14GeV_T1001018.RES\n",
        " Reading file header of reference file and allocating arrays \n",
        " XYMAX:    14.9822889435085     \n",
        " Input data:\n",
        " Time step of input data  (fs) =   4.999999999999999E-003\n",
        " Mesh step (1) of input data (cm) =   6.952380952380952E-005\n",
        " Mesh step (2) of input data (cm) =   3.097127701597077E-004\n",
        " Output data:\n",
        " Time step of output data (fs) =   2.499999999999999E-002   Ratio:            5\n",
        " Number of nodes:          201\n",
        " Mesh step (cm) =   3.093470808018115E-004   Ratio:    4.44951280605345     \n",
        " XYMAX, XYMAX*RNORMR, DXY*RNORMR:    14.9822889435085     \n",
        "  3.093470808018115E-002  3.093470808018115E-004\n",
        "   8680166902.86291     \n",
        " Input file: SASE1_5keV_14GeV_T1001018.RES\n",
        " Output file: SASE1_5keV_14GeV_FXY1_1001018.RES  Nh =            1\n",
        " Output file: SASE1_5keV_14GeV_E11001018.RES\n",
        " Number of slices:          200\n",
        " Pulse length:    5.00000000000000     \n",
        " Output file: SASE1_5keV_14GeV_PXY1_1001018.RES  Nh =            1\n",
        " CPU time:    10.1234600000000     \n",
        "\n"
       ]
      }
     ],
     "prompt_number": 23
    },
    {
     "cell_type": "code",
     "collapsed": false,
     "input": [
      "print (outp)"
     ],
     "language": "python",
     "metadata": {},
     "outputs": [
      {
       "output_type": "stream",
       "stream": "stdout",
       "text": [
        " Searching file SASE1_5keV_14GeV_T1001018.RES\n",
        " Reading file header of reference file and allocating arrays \n",
        " XYMAX:    14.9822889435085     \n",
        " Input data:\n",
        " Time step of input data  (fs) =   4.999999999999999E-003\n",
        " Mesh step (1) of input data (cm) =   6.952380952380952E-005\n",
        " Mesh step (2) of input data (cm) =   3.097127701597077E-004\n",
        " Output data:\n",
        " Time step of output data (fs) =   2.499999999999999E-002   Ratio:            5\n",
        " Number of nodes:          201\n",
        " Mesh step (cm) =   3.093470808018115E-004   Ratio:    4.44951280605345     \n",
        " XYMAX, XYMAX*RNORMR, DXY*RNORMR:    14.9822889435085     \n",
        "  3.093470808018115E-002  3.093470808018115E-004\n",
        "   8680166902.86291     \n",
        " Input file: SASE1_5keV_14GeV_T1001018.RES\n",
        " Output file: SASE1_5keV_14GeV_FXY1_1001018.RES  Nh =            1\n",
        " Output file: SASE1_5keV_14GeV_E11001018.RES\n",
        " Number of slices:          200\n",
        " Pulse length:    5.00000000000000     \n",
        " Output file: SASE1_5keV_14GeV_PXY1_1001018.RES  Nh =            1\n",
        " CPU time:    10.1234600000000     \n",
        "\n"
       ]
      }
     ],
     "prompt_number": 24
    },
    {
     "cell_type": "code",
     "collapsed": false,
     "input": [
      "#loading data from text toe*.res file\n",
      "#toe_file_name=os.path.join('8kev','toe011038.res')\n",
      "toe_file_name = set_name_2013(namg,namt,ifb,nzc)+'.RES'\n",
      "print 'Reading text data from: %s ...' %toe_file_name\n",
      "params, rows=parse_toe_file(toe_file_name)\n",
      "print '...done'\n",
      "e_data_file = set_name_2013(namg,'E'+str(nharm),ifb,nzc)+'.RES'\n",
      "e_data = numpy.loadtxt(e_data_file)\n",
      "pz_data_file = 'PZ1001.RES'\n",
      "pz_data = numpy.loadtxt(pz_data_file)"
     ],
     "language": "python",
     "metadata": {},
     "outputs": [
      {
       "output_type": "stream",
       "stream": "stdout",
       "text": [
        "Reading text data from: SASE1_5keV_14GeV_FXY1_1001018.RES ...\n",
        "...done"
       ]
      },
      {
       "output_type": "stream",
       "stream": "stdout",
       "text": [
        "\n"
       ]
      }
     ],
     "prompt_number": 25
    },
    {
     "cell_type": "code",
     "collapsed": false,
     "input": [
      "wl = params[0][0]*1e-2\n",
      "photonEnergy = 12.4e3/(wl*1e10)\n",
      "slMin0 = 0.\n",
      "slStep = params[0][1]\n",
      "xStep = params[0][2]*1e-2\n",
      "nx = int(params[0][3])\n",
      "nStart=1\n",
      "nEnd=size(rows)/(2*nx*nx)\n",
      "#ratio = 6.4550128060534480 \n",
      "xMin = -xStep*(nx-1)/2\n",
      "xMax =  xStep*(nx-1)/2\n",
      "slMin = slMin0 + (nStart-1)*slStep\n",
      "slMax = slMin0 + (nEnd - 1)*slStep\n",
      "print 'wl [nm], Eph [keV]',wl*1e9,photonEnergy*1e-3\n",
      "print 'nStart,nEnd: ',nStart,nEnd\n",
      "print 'slMin,slMax [fs]: ',slMin*1e15,slMax*1e15\n",
      "print 'nx,xMin,xMax [um]',nx,xMin*1e6,xMax*1e6"
     ],
     "language": "python",
     "metadata": {},
     "outputs": [
      {
       "output_type": "stream",
       "stream": "stdout",
       "text": [
        "wl [nm], Eph [keV] 0.250000002922 4.95999994204\n",
        "nStart,nEnd:  1 200\n",
        "slMin,slMax [fs]:  0.0 4.97500008389\n",
        "nx,xMin,xMax [um] 201 -309.347000439 309.347000439\n"
       ]
      }
     ],
     "prompt_number": 26
    },
    {
     "cell_type": "code",
     "collapsed": false,
     "input": [
      "RK1 = params[0][4]\n",
      "print RK1"
     ],
     "language": "python",
     "metadata": {},
     "outputs": [
      {
       "output_type": "stream",
       "stream": "stdout",
       "text": [
        "8.68017e+09\n"
       ]
      }
     ],
     "prompt_number": 27
    },
    {
     "cell_type": "code",
     "collapsed": false,
     "input": [
      "#build numpy array from list of rows\n",
      "wf_data=create_numpy_array_from_rows(rows,slices=range(nStart-1,nEnd))\n",
      "del rows"
     ],
     "language": "python",
     "metadata": {},
     "outputs": [
      {
       "output_type": "stream",
       "stream": "stdout",
       "text": [
        "(200, 201, 201, 2)\n",
        "(201, 201, 200, 2)\n"
       ]
      }
     ],
     "prompt_number": 28
    },
    {
     "cell_type": "code",
     "collapsed": false,
     "input": [
      "#wavefront structure based on glossary\n",
      "wf_struct={'Version':(0.1,'f')}\n",
      "wf_struct['params']={\n",
      "    'photonEnergy':(photonEnergy,'f'),\n",
      "    'zCoord':(0.0,'d'),\n",
      "    'wDomain':('time','s'),\n",
      "    'wSpace':('R-space','s'),\n",
      "    'wEFieldUnit':('sqrt(W/mm^2)','s'),\n",
      "    'Rx':(2.,'f'),\n",
      "    'Ry':(2.,'f'),\n",
      "    'dRx':(0.125,'f'),\n",
      "    'dRy':(0.125,'f'),\n",
      "    'xCentre':(0,'f'),\n",
      "    'yCentre':(0,'f'),\n",
      "    'nval':(2,'i')\n",
      "    }\n",
      "  \n",
      "wf_struct['params']['Mesh']={\n",
      "    'nx':(wf_data.shape[1],'i'),\n",
      "    'ny':(wf_data.shape[0],'i'),\n",
      "    'xMin':(xMin,'f'),\n",
      "    'xMax':(xMax,'f'),\n",
      "    'yMin':(xMin,'f'),\n",
      "    'yMax':(xMax,'f'),    \n",
      "    'nSlices':(wf_data.shape[2],'i'),\n",
      "    'sliceMin':(slMin,'f'),\n",
      "    'sliceMax':(slMax,'f'),\n",
      "   }\n",
      "\n",
      "wf_struct['data']={\n",
      "    'arrEver':(wf_data*sqrt(RK1),'f'),\n",
      "    'arrEhor':(numpy.zeros(shape=wf_data.shape,dtype='float32'),'f')\n",
      "    }\n",
      "wf_struct['misc']={\n",
      "    }"
     ],
     "language": "python",
     "metadata": {},
     "outputs": [],
     "prompt_number": 29
    },
    {
     "cell_type": "code",
     "collapsed": false,
     "input": [
      "#store wavefront in hdf5 file\n",
      "namg = \"SASE1_5keV_14GeV_\"\n",
      "nharm = 1\n",
      "#namt = 'FXY'+str(nharm)+'_'\n",
      "namt = '_'\n",
      "ifb = 1001\n",
      "nzc = 18\n",
      "fname0 = set_name_2013(namg,namt,ifb,nzc)\n",
      "print \"Store wavefront in hdf5 file: \"+fname0+'.h5'\n",
      "store_wavefront_hdf5(wf_struct,fname0+'.h5')"
     ],
     "language": "python",
     "metadata": {},
     "outputs": [
      {
       "output_type": "stream",
       "stream": "stdout",
       "text": [
        "Store wavefront in hdf5 file: SASE1_5keV_14GeV__1001018.h5\n"
       ]
      }
     ],
     "prompt_number": 22
    },
    {
     "cell_type": "code",
     "collapsed": false,
     "input": [
      "# use srwlib glossary to add attributes to wavefront datasets \n",
      "strDataFolderName = '.' #data sub-folder name\n",
      "print('Loading Initial Wavefront data from external file...')\n",
      "strInFieldFileName = fname0+'.h5' #input electric field file name\n",
      "in_fname = os.path.join(os.getcwd(), strDataFolderName, strInFieldFileName)\n",
      "wf_struct=Wavefront()\n",
      "wf_struct.load_hdf5(in_fname)\n",
      "wfr = wf_struct._srwl_wf\n",
      "wf_struct = Wavefront(wfr)\n",
      "out_fname = fname0+'_0001'\n",
      "print('saving initial file with attributes: '+out_fname+'.h5')\n",
      "wf_struct.store_hdf5(out_fname+'.h5')"
     ],
     "language": "python",
     "metadata": {},
     "outputs": [
      {
       "output_type": "stream",
       "stream": "stdout",
       "text": [
        "Loading Initial Wavefront data from external file...\n",
        "saving initial file with attributes: SASE1_5keV_14GeV__1001018_0001.h5"
       ]
      },
      {
       "output_type": "stream",
       "stream": "stdout",
       "text": [
        "\n"
       ]
      }
     ],
     "prompt_number": 17
    },
    {
     "cell_type": "code",
     "collapsed": false,
     "input": [
      "wf_struct_fel={'Version':(0.1,'f')}\n",
      "wf_struct_fel['history/parent/detail/info']={\n",
      "    'contact':(r'''Mikhail Yurkov\n",
      "Evgeny Schneidmiller\n",
      "\n",
      "Deutsches Elektronen Synchrotron (DESY)\n",
      "Notkestrasse 85\n",
      "22607 Hamburg\n",
      "Germany\n",
      "\n",
      "E-mail: mikhail.yurkov@desy.de\n",
      "E-mail: evgeny.schneidmiller@desy.de\n",
      "Tel. +49 40 8998 2676''','s'),\n",
      "   'data_description':(r'''SASE12, 5 keV, 14 GeV. \n",
      "Current pulse lengthis 2.5 ps, or about 10^4 coherence time (0.25 fs) - \n",
      "should be sufficient for any statistical analysis. \n",
      "Test files are as usually temporal profile, intensity distributions in the near and far zone.\n",
      "Output data points for s2e simulations:\n",
      "(see gain_curve):\n",
      "No.    z(m)\n",
      "15     35.5 (beginning of saturation regime)\n",
      "18     42.7 (saturation regime)\n",
      "25     59.5 (deep nonlinear)\n",
      "33     78.7  -/-\n",
      "42    100.3  -/- \n",
      "====\n",
      "Generic file name for simulation run is\n",
      "SASE1_5keV_14GeV_\n",
      "\n",
      "Parameters of the run:\n",
      "Frequency harmonics: w1, w3\n",
      "Azimuthal harmonics: -2...2\n",
      "File names:\n",
      "<generic_filename>??XXXXZZZ\n",
      "XXXX    -    No. of statistical run\n",
      "ZZZ    -    No. of output point along undulator \n",
      "??     stands for:\n",
      "P1/P3    -    temporal structure (fs,W) for the 1st/3rd harmonic\n",
      "S1/S3    -    temporal structure (dw/w [%],spectral power) for the 1st/3rd harmonic\n",
      "PZ1/PZ3    -    energy in the radiation pulse for the 1st/3rd harmonic harmonic\n",
      "column 2: z(cm)\n",
      "column3: total power W\n",
      "column 4: power in relevant frequency harmonic\n",
      "columns 5-9: power in azimuthal modes -2...2\n",
      "N1/N3    -    Intensity distribution in the near zone (cm,intensity)\n",
      "F1/F3    -    Intensity distribution in the near zone (rad,intensity)\n",
      "PZ n files:\n",
      "1 :  No. poit of output\n",
      "2 : z-coordinate of output (cm)\n",
      "3 : total radiation power (all freq, harm+all azimuthal modes)\n",
      "4 : control information (for internal purpose)\n",
      "5 :  power in n-th frequency harm.\n",
      "6-10: partial contribution of azimuthal modes -2:2 to n-th freq. harm.\n",
      "Pn files:\n",
      "1 : time [fs]\n",
      "2: radiation power (all freq, harm+all azimuthal modes) [W]\n",
      "3: control information (for internal purpose)\n",
      "4:  power in n-th frequency harm.\n",
      "5-9: partial contribution of azimuthal modes -2:2 to n-th freq. harm.\n",
      "SFn\n",
      "1: dw/w [%]\n",
      "2: spectral power oh n-th frequency harmonic (far zone, zero angle)\n",
      "Spectrum is normalized to 1: \\int P(w)dw = 1 \n",
      "all other columns as well as SNn files are internal control information.''','s'),\n",
      "   'method_description':('Code: FAST (Schneidmiller Yurkov)','s'),\n",
      "   'source_data_path': ('/data1/yurkov/2013/SASE12_5keV_14GeV_long_pulse/','s')}\n",
      "wf_struct_fel['history/parent/detail/misc']={\n",
      "    'temporal_struct':(e_data,'f'),\n",
      "    'gain_curve':(pz_data,'f')}\n",
      "store_wavefront_hdf5(wf_struct_fel,fname0+'_fel_out.h5')"
     ],
     "language": "python",
     "metadata": {},
     "outputs": [],
     "prompt_number": 19
    },
    {
     "cell_type": "code",
     "collapsed": false,
     "input": [
      "#load wavefront from hdf5 file\n",
      "print \"load wavefront from \"+out_fname+'.h5'\n",
      "#wf_from_file=load_wavefront_hdf5(ofname)\n",
      "mwf=Wavefront()\n",
      "mwf.load_hdf5(out_fname+'.h5')"
     ],
     "language": "python",
     "metadata": {},
     "outputs": [
      {
       "output_type": "stream",
       "stream": "stdout",
       "text": [
        "load wavefront from SASE1_5keV_14GeV__1001018_0001.h5\n"
       ]
      }
     ],
     "prompt_number": 18
    },
    {
     "cell_type": "code",
     "collapsed": false,
     "input": [
      "#display intensity of K-th slice \n",
      "K = 25\n",
      "pylab.figure()\n",
      "pylab.imshow(mwf.get_intensity(K),extent=mwf.get_limits())\n",
      "locs,labels = xticks()\n",
      "xticks(locs, map(lambda x: \"%g\" % x, locs*1e3))\n",
      "locs,labels = yticks()\n",
      "yticks(locs, map(lambda y: \"%g\" % y, locs*1e3))\n",
      "pylab.xlabel('x [mm]')\n",
      "pylab.ylabel('y [mm]')\n",
      "pylab.title(title)\n",
      "pylab.axis('auto')\n",
      "pylab.set_cmap('bone')\n",
      "pylab.colorbar()\n",
      "pylab.show()\n",
      "\n",
      "x,y = intensity_cut(mwf, axis='y', polarization='v', x0=-50.5e-6, x1=50.e-6,M=K)\n",
      "pylab.figure()\n",
      "pylab.title('x-cut')\n",
      "pylab.plot(x*1e6,y) # x in [um]\n",
      "pylab.grid(True)\n",
      "pylab.xlabel('x [um]')\n",
      "\n",
      "x,y = phase_cut(mwf, axis='y', polarization='v', x0=-50.5e-6, x1=50.e-6,M=K)\n",
      "pylab.figure()\n",
      "pylab.title('x-cut')\n",
      "pylab.plot(x*1e6,y) # x in [um]\n",
      "pylab.grid(True)\n",
      "pylab.xlabel('x [um]')\n",
      "\n"
     ],
     "language": "python",
     "metadata": {},
     "outputs": [
      {
       "ename": "IndexError",
       "evalue": "invalid index",
       "output_type": "pyerr",
       "traceback": [
        "\u001b[1;31m---------------------------------------------------------------------------\u001b[0m\n\u001b[1;31mIndexError\u001b[0m                                Traceback (most recent call last)",
        "\u001b[1;32m<ipython-input-20-b1e62f801e74>\u001b[0m in \u001b[0;36m<module>\u001b[1;34m()\u001b[0m\n\u001b[0;32m      2\u001b[0m \u001b[0mK\u001b[0m \u001b[1;33m=\u001b[0m \u001b[1;36m25\u001b[0m\u001b[1;33m\u001b[0m\u001b[0m\n\u001b[0;32m      3\u001b[0m \u001b[0mpylab\u001b[0m\u001b[1;33m.\u001b[0m\u001b[0mfigure\u001b[0m\u001b[1;33m(\u001b[0m\u001b[1;33m)\u001b[0m\u001b[1;33m\u001b[0m\u001b[0m\n\u001b[1;32m----> 4\u001b[1;33m \u001b[0mpylab\u001b[0m\u001b[1;33m.\u001b[0m\u001b[0mimshow\u001b[0m\u001b[1;33m(\u001b[0m\u001b[0mmwf\u001b[0m\u001b[1;33m.\u001b[0m\u001b[0mget_intensity\u001b[0m\u001b[1;33m(\u001b[0m\u001b[0mK\u001b[0m\u001b[1;33m)\u001b[0m\u001b[1;33m,\u001b[0m\u001b[0mextent\u001b[0m\u001b[1;33m=\u001b[0m\u001b[0mmwf\u001b[0m\u001b[1;33m.\u001b[0m\u001b[0mget_limits\u001b[0m\u001b[1;33m(\u001b[0m\u001b[1;33m)\u001b[0m\u001b[1;33m)\u001b[0m\u001b[1;33m\u001b[0m\u001b[0m\n\u001b[0m\u001b[0;32m      5\u001b[0m \u001b[0mlocs\u001b[0m\u001b[1;33m,\u001b[0m\u001b[0mlabels\u001b[0m \u001b[1;33m=\u001b[0m \u001b[0mxticks\u001b[0m\u001b[1;33m(\u001b[0m\u001b[1;33m)\u001b[0m\u001b[1;33m\u001b[0m\u001b[0m\n\u001b[0;32m      6\u001b[0m \u001b[0mxticks\u001b[0m\u001b[1;33m(\u001b[0m\u001b[0mlocs\u001b[0m\u001b[1;33m,\u001b[0m \u001b[0mmap\u001b[0m\u001b[1;33m(\u001b[0m\u001b[1;32mlambda\u001b[0m \u001b[0mx\u001b[0m\u001b[1;33m:\u001b[0m \u001b[1;34m\"%g\"\u001b[0m \u001b[1;33m%\u001b[0m \u001b[0mx\u001b[0m\u001b[1;33m,\u001b[0m \u001b[0mlocs\u001b[0m\u001b[1;33m*\u001b[0m\u001b[1;36m1e3\u001b[0m\u001b[1;33m)\u001b[0m\u001b[1;33m)\u001b[0m\u001b[1;33m\u001b[0m\u001b[0m\n",
        "\u001b[1;32m/diskmnt/a/lsamoylv/code/WPG-develop/wpg/wavefront.pyc\u001b[0m in \u001b[0;36mget_intensity\u001b[1;34m(self, slice_number, polarization)\u001b[0m\n\u001b[0;32m    132\u001b[0m         \u001b[0mres\u001b[0m\u001b[1;33m.\u001b[0m\u001b[0mshape\u001b[0m \u001b[1;33m=\u001b[0m \u001b[1;33m(\u001b[0m\u001b[0mself\u001b[0m\u001b[1;33m.\u001b[0m\u001b[0mparams\u001b[0m\u001b[1;33m.\u001b[0m\u001b[0mMesh\u001b[0m\u001b[1;33m.\u001b[0m\u001b[0mny\u001b[0m\u001b[1;33m,\u001b[0m \u001b[0mself\u001b[0m\u001b[1;33m.\u001b[0m\u001b[0mparams\u001b[0m\u001b[1;33m.\u001b[0m\u001b[0mMesh\u001b[0m\u001b[1;33m.\u001b[0m\u001b[0mnx\u001b[0m\u001b[1;33m,\u001b[0m \u001b[0mself\u001b[0m\u001b[1;33m.\u001b[0m\u001b[0mparams\u001b[0m\u001b[1;33m.\u001b[0m\u001b[0mMesh\u001b[0m\u001b[1;33m.\u001b[0m\u001b[0mnSlices\u001b[0m\u001b[1;33m)\u001b[0m\u001b[1;33m\u001b[0m\u001b[0m\n\u001b[0;32m    133\u001b[0m         \u001b[1;32mif\u001b[0m \u001b[1;32mnot\u001b[0m \u001b[0mslice_number\u001b[0m \u001b[1;32mis\u001b[0m \u001b[0mNone\u001b[0m\u001b[1;33m:\u001b[0m\u001b[1;33m\u001b[0m\u001b[0m\n\u001b[1;32m--> 134\u001b[1;33m             \u001b[0mres\u001b[0m \u001b[1;33m=\u001b[0m \u001b[0mres\u001b[0m\u001b[1;33m[\u001b[0m\u001b[1;33m:\u001b[0m\u001b[1;33m,\u001b[0m \u001b[1;33m:\u001b[0m\u001b[1;33m,\u001b[0m \u001b[0mslice_number\u001b[0m\u001b[1;33m]\u001b[0m\u001b[1;33m\u001b[0m\u001b[0m\n\u001b[0m\u001b[0;32m    135\u001b[0m         \u001b[1;32mreturn\u001b[0m \u001b[0mres\u001b[0m\u001b[1;33m\u001b[0m\u001b[0m\n\u001b[0;32m    136\u001b[0m \u001b[1;33m\u001b[0m\u001b[0m\n",
        "\u001b[1;31mIndexError\u001b[0m: invalid index"
       ]
      }
     ],
     "prompt_number": 20
    },
    {
     "cell_type": "code",
     "collapsed": false,
     "input": [
      "aa=loadtxt('SASE1_5keV_14GeV_E11001018.RES')\n",
      "pa = mwf.get_intensity()\n",
      "px = numpy.sum(pa,axis=0)\n",
      "pxy = numpy.sum(px,axis=0)\n",
      "# pxy=numpy.array([pxy[0],pxy[10],pxy[1],pxy[11],pxy[2],pxy[12],pxy[3],pxy[13],pxy[4],pxy[14],\n",
      "#                  pxy[5],pxy[15],pxy[6],pxy[16],pxy[7],pxy[17],pxy[8],pxy[18],pxy[9],pxy[19]])\n",
      "taxis = numpy.linspace(mwf.params.Mesh.sliceMin,mwf.params.Mesh.sliceMax,mwf.params.Mesh.nSlices)\n",
      "#pylab.plot(pxy*1e-9,'-bv')\n",
      "dt = taxis[1]-taxis[0]\n",
      "pylab.plot((taxis+dt)*1e15,pxy*1e-9,'-bv')\n",
      "pylab.plot(aa[:,0],aa[:,1]*1e-9,'-ro')\n",
      "pylab.xlabel('[fs]')\n",
      "#pylab.xlim(7,9)\n",
      "pylab.ylabel('[GW]')\n",
      "pylab.grid(True)\n",
      "pylab.show()"
     ],
     "language": "python",
     "metadata": {},
     "outputs": [
      {
       "output_type": "display_data",
       "png": "[encoded data removed]"
      }
     ],
     "prompt_number": 23
    },
    {
     "cell_type": "markdown",
     "metadata": {},
     "source": [
      "#Write back to res file"
     ]
    },
    {
     "cell_type": "code",
     "collapsed": false,
     "input": [
      "def store_res_file(hdf_file, hdf_set_name, out_res_file):\n",
      "    \"\"\"\n",
      "    This function convert /data/arrEver or /data/arrEver to FEL data file\n",
      "    :param hdf_file: HDF5 file name to read.\n",
      "    :param hdf_set_name: Dataset name to be converted (generaly '/data/arrEver' or '/data/arrEver').\n",
      "    :param out_res_file: ASCII file to be writed.\n",
      "    \"\"\"\n",
      "    with h5py.File(hdf_file,'r') as f:\n",
      "        data_set=f[hdf_set_name]\n",
      "        print data_set.shape\n",
      "        data_set = numpy.swapaxes(data_set,2,0)\n",
      "        old_shape = data_set.shape\n",
      "        print data_set.shape\n",
      "        data_set = data_set.reshape((old_shape[0]*old_shape[1],old_shape[2]*old_shape[3]))\n",
      "        print data_set.shape\n",
      "        numpy.savetxt(out_res_file, data_set, fmt='%13.6E')"
     ],
     "language": "python",
     "metadata": {},
     "outputs": [],
     "prompt_number": 24
    },
    {
     "cell_type": "code",
     "collapsed": false,
     "input": [
      "mwf.store_hdf5('out_test.h5')\n",
      "in_file = 'out_test.h5'\n",
      "out_file_name = 'wf.res'\n",
      "data_set_name = '/data/arrEver'"
     ],
     "language": "python",
     "metadata": {},
     "outputs": [],
     "prompt_number": 25
    },
    {
     "cell_type": "code",
     "collapsed": false,
     "input": [
      "store_res_file(in_file, data_set_name, out_file_name)"
     ],
     "language": "python",
     "metadata": {},
     "outputs": [
      {
       "output_type": "stream",
       "stream": "stdout",
       "text": [
        "(201, 201, 24, 2)\n",
        "(24, 201, 201, 2)"
       ]
      },
      {
       "output_type": "stream",
       "stream": "stdout",
       "text": [
        "\n",
        "(4824, 402)\n"
       ]
      }
     ],
     "prompt_number": 26
    },
    {
     "cell_type": "markdown",
     "metadata": {},
     "source": [
      "#Add field from data file"
     ]
    },
    {
     "cell_type": "code",
     "collapsed": false,
     "input": [
      "def store_dataset(data_file, data_set_name, hdf5_file):\n",
      "    \"\"\"\n",
      "    Read data from text file and store it in HDF5 file.\n",
      "    :param data_file: Text file (table) to be readed.\n",
      "    :param data_set_name: Dataset name in HDF5 where data be writed.\n",
      "    :param hdf5_file: HDF5 file name to be writed.\n",
      "    \"\"\"\n",
      "    data = numpy.loadtxt(data_file)\n",
      "    with h5py.File(hdf5_file) as f:\n",
      "        #del f[data_set_name]\n",
      "        f[data_set_name]=data"
     ],
     "language": "python",
     "metadata": {},
     "outputs": [],
     "prompt_number": 27
    },
    {
     "cell_type": "code",
     "collapsed": false,
     "input": [
      "store_dataset('SASE1_5keV_14GeV_E11001018.RES', '/a/b/data', 'my2.h5')"
     ],
     "language": "python",
     "metadata": {},
     "outputs": [],
     "prompt_number": 28
    },
    {
     "cell_type": "code",
     "collapsed": false,
     "input": [],
     "language": "python",
     "metadata": {},
     "outputs": [],
     "prompt_number": 28
    },
    {
     "cell_type": "code",
     "collapsed": false,
     "input": [],
     "language": "python",
     "metadata": {},
     "outputs": [],
     "prompt_number": 28
    }
   ],
   "metadata": {}
  }
 ]
}